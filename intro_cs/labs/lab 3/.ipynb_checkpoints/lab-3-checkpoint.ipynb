{
 "cells": [
  {
   "cell_type": "markdown",
   "id": "ccb0485f",
   "metadata": {},
   "source": [
    "## Lab 3\n",
    "\n",
    "CS 109, Fall 2022 <br>\n",
    "Dr. Kell\n",
    "\n",
    "This lab should be completed in a group of three. You are free to work together as much as you like, but both of you will make seperate assignment submissions on Canvas.  The lab is due on Tuesday December 6 (12/6) at 11:59pm.\n",
    "\n",
    "<b>To receive full credit, be sure to write docstrings and to test each function for *multiple* cases inside a main() function.  </b>"
   ]
  },
  {
   "cell_type": "markdown",
   "id": "0f327771",
   "metadata": {},
   "source": [
    "## Problem 1 [5 points] \n",
    "\n",
    "Write a *recursive* function called <code>two_three_factors_only(x)</code> that given an <code>int x >= 2</code>, returns <code>True</code> if <code>x</code> can be expressed as *only* a product of 2s an 3s; otherwise, the function returns <code>False</code>. \n",
    "\n",
    "For example, the function should return <code>True</code> for a number like is 36 (since $36 = 2*2*3*3$), but return <code>False</code> for a number like 60 (since 5 is prime factor of 60, which cannot be broken down further into a product of 2s and 3s). \n",
    "\n",
    "Recall we solved this problem earlier in the semester using a while loop (solution can be found in the file <code>10-12-boolean-operator-problems-solutions</code> on Canvas). However this time, your function must also be recursive: it should make at least one call to itself and you may not use the any loops."
   ]
  },
  {
   "cell_type": "code",
   "execution_count": null,
   "id": "af467acc",
   "metadata": {},
   "outputs": [],
   "source": [
    "### YOUR SOLUTION GOES HERE (DELETE THIS COMMENT)"
   ]
  },
  {
   "cell_type": "markdown",
   "id": "d83b68ca",
   "metadata": {},
   "source": [
    "## Problem 2 [5 points] \n",
    "\n",
    "Write a *recursive* Boolean function <code>is_even(x)</code> that returns <code>True</code> if a non-negative int <code>x</code> is even. Otherwise, the function should return <code>False</code>.  \n",
    "\n",
    "Your function must also be recursive: it should make at least one call to itself, and you may not use the any loops. <b>Furthermore, your function may not use the %, /, or // operators</b> (however, you may/should use other arithmetic operators, such as + or -). "
   ]
  },
  {
   "cell_type": "code",
   "execution_count": null,
   "id": "b89384ca",
   "metadata": {},
   "outputs": [],
   "source": [
    "### YOUR SOLUTION GOES HERE (DELETE THIS COMMENT)"
   ]
  },
  {
   "cell_type": "markdown",
   "id": "127fc91d",
   "metadata": {},
   "source": [
    "## Problem 3 [10 points] \n",
    "\n",
    "For two lists of ints <code>shorter</code> and <code>longer</code> where <code>len(shorter)</code> $\\leq$ <code>len(longer)</code>, define their <i>dominant list</i> to be a list with length <code>len(longer)</code> such that the first <code>len(shorter)</code> numbers in the dominant list are the larger values when comparing entries at the same index   (i.e., if <code>longer[0] > shorter[0]</code>, then the first number in the dominant list is <code>longer[0]</code>, and so on). The remaining numbers in the dominant list  are then just the remaining numbers (if any) in <code>longer</code>. \n",
    "\n",
    "\n",
    "For example, if <code>shorter = [2, 3, 10, 7]</code> and <code>longer = [1, 4, 4, 9, 12, 3]</code>, then their dominant list is <code>[2, 4, 10, 9, 12, 3]</code> since $2 > 1$, $3 < 4$, $10 > 4$, and $ 7 < 9$. The last two numbers $12$ and $3$ are then the remaining numbers from <code>longer</code>. \n",
    "\n",
    "Write a *recursive* function <code>dominant_list(shorter, longer)</code> that takes in two lists of ints <code>shorter</code> and <code>longer</code> as parameters and returns the dominant list of <code>shorter</code> and <code>longer</code>.\n",
    "\n",
    "Recall we solved this problem using for loops in Quiz 5. However this time, your function must also be recursive: it should make at least one call to itself, and you may not use the any loops.\n",
    "\n",
    "<i>(Hint: it will likely be useful to utilize the <code>L.insert(i,x)</code> method, which inserts element <code>x</code> at position <code>i</code> in list <code>L</code>.)</i>"
   ]
  },
  {
   "cell_type": "code",
   "execution_count": null,
   "id": "214a8c3e",
   "metadata": {},
   "outputs": [],
   "source": [
    "### YOUR SOLUTION GOES HERE (DELETE THIS COMMENT)"
   ]
  }
 ],
 "metadata": {
  "kernelspec": {
   "display_name": "Python 3",
   "language": "python",
   "name": "python3"
  },
  "language_info": {
   "codemirror_mode": {
    "name": "ipython",
    "version": 3
   },
   "file_extension": ".py",
   "mimetype": "text/x-python",
   "name": "python",
   "nbconvert_exporter": "python",
   "pygments_lexer": "ipython3",
   "version": "3.7.3"
  },
  "vscode": {
   "interpreter": {
    "hash": "09c4ae591166c936e747a285f8fe3b9d082ea45e9c830b1a7357993278b2ca12"
   }
  }
 },
 "nbformat": 4,
 "nbformat_minor": 5
}
