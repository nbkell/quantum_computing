{
 "cells": [
  {
   "cell_type": "markdown",
   "id": "c28513dd",
   "metadata": {},
   "source": [
    "## Lab 1\n",
    "\n",
    "CS 109, Fall 2022 <br>\n",
    "Dr. Kell\n",
    "\n",
    "This lab should be completed with a partner. You are free to work together as much as you like, but both of you will make seperate assignment submissions on Canvas. <b> The lab is due on Tuesday September 20 (9/20) at 11:59pm. </b>"
   ]
  },
  {
   "cell_type": "markdown",
   "id": "e644a63a",
   "metadata": {},
   "source": [
    "### Problem 1 [10 points] \n",
    "\n",
    "Suppose you want to calculate your *average net savings* in the months of June, July, and August, where net savings in a given month is your total earnings minus your total expenses. \n",
    "\n",
    "For example, if your earnings for each month were $\\$$330, $\\$$330, and $\\$$340, and your expenses for each month were $\\$$210, $\\$$240, and $\\$$180, then your average net savings over the three months would be (330 - 210) + (330 - 240) + (340 - 180) divided by 3 = (120 + 90 + 160)/3 = 123.33.\n",
    "\n",
    "Implement a function called <code>average_net_savings(earn1, earn2, earn3, expense1, expense2, expense3)</code> that --- given floats specifying three pairs of earnings and expenses--- computes and returns the average net savings. \n",
    "\n",
    "Additionally, write a <code>main()</code> function where you test your implementation of <code>average_net_savings()</code> for different earnings/expenses amounts for June, July, and August. Also be sure to write a docstring for your <code>average_net_savings()</code> function. Format your code in a similar way as the examples covered previously in the week. "
   ]
  },
  {
   "cell_type": "code",
   "execution_count": null,
   "id": "d31a0b8e",
   "metadata": {},
   "outputs": [
    {
     "ename": "",
     "evalue": "",
     "output_type": "error",
     "traceback": [
      "\u001b[1;31mRunning cells with 'Python 3.6.6 64-bit (system)' requires ipykernel package.\n",
      "\u001b[1;31mRun the following command to install 'ipykernel' into the Python environment. \n",
      "\u001b[1;31mCommand: '\"c:/Program Files/PsychoPy3/python.exe\" -m pip install ipykernel -U --user --force-reinstall'"
     ]
    }
   ],
   "source": [
    "### YOU SOLUTION GOES HERE (DELETE THIS COMMENT)\n",
    "print('Hello world!')"
   ]
  },
  {
   "cell_type": "markdown",
   "id": "aa3a486b",
   "metadata": {},
   "source": [
    "### Problem 2 [10 points] \n",
    "\n",
    "Manny Manhattan and Ulysses Euclid have both decided to go for a walk in Gridwalk Park. The park is one square mile in size  and is oriented so that each respective side runs parallel to the north-south and east-west axses. Furthermore, throughout the park, sidewalks have been evenly placed along both the width and length of the park so that they form a \"sidewalk grid\", where adjacent parallel sidewalks are 10 meters apart. \n",
    "\n",
    "Therefore, if we think of the south-west corner as corresponding to the point (0,0), we can think of the intersection of each sidewalk as corresponding to a point, where each coordinate is a multiple of 10. For example, starting from the south-est corner and walking one intersection to the east and then one intersection to the north would bring someone to the intersection corresponding to point (10,10). \n",
    "\n",
    "When walking through Gridwalk, Manny and Ulysses have different methods for traversing through the park. Manny prefers to always walk on the sidewalks, whereas Ulysses will cut through the grass and take a direct route to his destination. Therefore, Manny always covers at least as much ground as Ulysses when traveling to and from the same intersections.\n",
    "\n",
    "Implement a function called <code>distance_difference(xstop1, ystop1, xstop2, ystop2)</code> that outputs how much farther Manny will travel than Ulysses if they both start their walks at the south-west corner of Gridwalk Park, travel to the sidewalk intersection corresponding to the point <code>(xspot1, yspot1)</code>, and then travel to the intersection at the point <code>(xspot2, yspot2).</code> \n",
    "\n",
    "Additionally, write a <code>main()</code> function that calls your <code>distance_difference()</code> function for various combinations of stop 1 and stop 2 points, and then prints the results.   Also, be sure to write a docstring for your <code>distance_difference()</code> function. Format your code in a similar way as the examples covered previously in the week. \n",
    "\n",
    "\n",
    "<i> (Note: For an illustration of the setup of the problem, please see the diagram in the file <code>gridwalk-pic.pdf</code> included with the instructions on Canvas.)</i>\n"
   ]
  },
  {
   "cell_type": "code",
   "execution_count": null,
   "id": "7966f2e7",
   "metadata": {},
   "outputs": [
    {
     "ename": "",
     "evalue": "",
     "output_type": "error",
     "traceback": [
      "\u001b[1;31mRunning cells with 'Python 3.6.6 64-bit (system)' requires ipykernel package.\n",
      "\u001b[1;31mRun the following command to install 'ipykernel' into the Python environment. \n",
      "\u001b[1;31mCommand: '\"c:/Program Files/PsychoPy3/python.exe\" -m pip install ipykernel -U --user --force-reinstall'"
     ]
    }
   ],
   "source": [
    "### YOU SOLUTION GOES HERE (DELETE THIS COMMENT)"
   ]
  }
 ],
 "metadata": {
  "kernelspec": {
   "display_name": "Python 3",
   "language": "python",
   "name": "python3"
  },
  "language_info": {
   "codemirror_mode": {
    "name": "ipython",
    "version": 3
   },
   "file_extension": ".py",
   "mimetype": "text/x-python",
   "name": "python",
   "nbconvert_exporter": "python",
   "pygments_lexer": "ipython3",
   "version": "3.7.3"
  },
  "vscode": {
   "interpreter": {
    "hash": "09c4ae591166c936e747a285f8fe3b9d082ea45e9c830b1a7357993278b2ca12"
   }
  }
 },
 "nbformat": 4,
 "nbformat_minor": 5
}
