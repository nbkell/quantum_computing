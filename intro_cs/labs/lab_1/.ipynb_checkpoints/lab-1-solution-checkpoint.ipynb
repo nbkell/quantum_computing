{
 "cells": [
  {
   "cell_type": "markdown",
   "id": "c28513dd",
   "metadata": {},
   "source": [
    "## Lab 1\n",
    "\n",
    "CS 109, Fall 2022 <br>\n",
    "Dr. Kell\n",
    "\n",
    "This lab should be completed with a partner. You are free to work together as much as you like, but both of you will make seperate assignment submissions on Canvas. <b> The lab is due on Tuesday September 20 (9/20) at 11:59pm. </b>"
   ]
  },
  {
   "cell_type": "markdown",
   "id": "e644a63a",
   "metadata": {},
   "source": [
    "### Problem 1 [10 points] \n",
    "\n",
    "Suppose you want to calculate your *average net savings* in the months of June, July, and August, where net savings in a given month is your total earnings minus your total expenses. \n",
    "\n",
    "For example, if your earnings for each month were $\\$$330, $\\$$330, and $\\$$340, and your expenses for each month were $\\$$210, $\\$$240, and $\\$$180, then your average net savings over the three months would be (330 - 210) + (330 - 240) + (340 - 180) divided by 3 = (120 + 90 + 160)/3 = 123.33.\n",
    "\n",
    "Implement a function called <code>average_net_savings(earn1, earn2, earn3, expense1, expense2, expense3)</code> that --- given floats specifying three pairs of earnings and expenses--- computes and returns the average net savings. \n",
    "\n",
    "Additionally, write a <code>main()</code> function where you test your implementation of <code>average_net_savings()</code> for different earnings/expenses amounts for June, July, and August. Also be sure to write a docstring for your <code>average_net_savings()</code> function. Format your code in a similar way as the examples covered previously in the week. "
   ]
  },
  {
   "cell_type": "code",
   "execution_count": 1,
   "id": "d31a0b8e",
   "metadata": {},
   "outputs": [
    {
     "name": "stdout",
     "output_type": "stream",
     "text": [
      "123.33333333333333\n",
      "200.0\n",
      "0.0\n"
     ]
    }
   ],
   "source": [
    "def average_net_savings(earn1, earn2, earn3, expense1, expense2, expense3):\n",
    "    ''' \n",
    "    Giving three earnings and expenses pair for each month,\n",
    "    calculate the average net savings over the three months. \n",
    "    \n",
    "    Parameters: floats earn1, earn2, earn3, expense1, expense2, and expense3.\n",
    "    Return value: average net savings over the three months.\n",
    "    '''\n",
    "    # calcualte the savings for each month\n",
    "    savings1 = earn1 - expense1\n",
    "    savings2 = earn2 - expense2\n",
    "    savings3 = earn3 - expense3\n",
    "    \n",
    "    # compute the average of the savings \n",
    "    average = (savings1 + savings2 + savings3)/3\n",
    "    \n",
    "    return average \n",
    "    \n",
    "def main():\n",
    "    \n",
    "    result1 = average_net_savings(330, 330, 340, 210, 240, 180)  \n",
    "    result2 = average_net_savings(100, 200, 300, 0, 0, 0)        \n",
    "    result3 = average_net_savings(100, 200, 300, 100, 200, 300)  \n",
    "    \n",
    "    print(result1)  # should be roughly 123.33\n",
    "    print(result2)  # should be 200.0\n",
    "    print(result3)  # should be 0.0\n",
    "    \n",
    "main()"
   ]
  },
  {
   "cell_type": "markdown",
   "id": "aa3a486b",
   "metadata": {},
   "source": [
    "### Problem 2 [10 points] \n",
    "\n",
    "Manny Manhattan and Ulysses Euclid have both decided to go for a walk in Gridwalk Park. The park is oriented so that each respective side runs parallel to the north-south and east-west axses. Furthermore, throughout the park, sidewalks have been evenly placed along both its width and length so that they form a \"sidewalk grid\", where adjacent parallel sidewalks are 10 meters apart. \n",
    "\n",
    "Therefore, we can think of the southwest corner as corresponding to the point (0,0), and the intersection of each sidewalk as corresponding to a point on the plane, where the coordinate of each point is a multiple of 10. For example, starting from the southwest corner and walking over one intersection to the east and then one intersection to the north would bring someone to the intersection corresponding to point (10,10). \n",
    "\n",
    "When walking through Gridwalk, Manny and Ulysses have different methods for traversing through the park. Manny prefers to always walk on the sidewalks, whereas Ulysses will cut through the grass and take a direct route to his destination. Therefore, Manny always covers at least as much ground as Ulysses when traveling to and from the same intersections.\n",
    "\n",
    "Implement a function called <code>distance_difference(xstop1, ystop1, xstop2, ystop2)</code> that outputs how much farther Manny will travel than Ulysses if they both start their walks at the southwest corner of Gridwalk, travel to the intersection corresponding to the point <code>(xspot1, yspot1)</code>, and then travel to the intersection at the point <code>(xstop2, ytop2).</code> \n",
    "\n",
    "Additionally, write a <code>main()</code> function that calls your <code>distance_difference()</code> function for various combinations of stop 1 and stop 2 points and then prints the results.   Also, be sure to write a docstring for your <code>distance_difference()</code> function. Format your code in a similar way as the examples covered previously in the week. \n",
    "\n",
    "\n",
    "<i> (Note: For an illustration of the setup of the problem, please see the diagram in the file <code>gridwalk-pic.pdf</code> included with the instructions on Canvas.)</i>\n"
   ]
  },
  {
   "cell_type": "code",
   "execution_count": 5,
   "id": "7966f2e7",
   "metadata": {},
   "outputs": [
    {
     "name": "stdout",
     "output_type": "stream",
     "text": [
      "35.278640450004204\n",
      "113.26610285160751\n",
      "101.83346173608032\n"
     ]
    }
   ],
   "source": [
    "import math\n",
    "\n",
    "def distance_difference(xstop1, ystop1, xstop2, ystop2):\n",
    "    '''\n",
    "    Calculates how much farther Manny will travel than Ulysses\n",
    "    if both start walking from southwest corner of Gridwalk.\n",
    "    \n",
    "    Parameters:ints xstop1, ystop1, xstop2, ytop2\n",
    "    Return value: The difference between the distances that Manny and Ulysses travel\n",
    "                  when going from (0,0) to (xstop1, ystop1) then to (xstop2, ystop2)\n",
    "    '''\n",
    "    # calculate Manny's total distance\n",
    "    manny_leg1 = xstop1 + ystop1                                   \n",
    "    manny_leg2 = math.fabs(xstop2 - xstop1) + math.fabs(ystop2 - ystop1)\n",
    "    manny_total = manny_leg1 + manny_leg2\n",
    "   \n",
    "    # calculate Ulysses' total distance\n",
    "    ulysees_leg1 = math.sqrt(xstop1**2 + ystop1**2)\n",
    "    ulysees_leg2 = math.sqrt((xstop2 -xstop1)**2 + (ystop2 - ystop1)**2)\n",
    "    ulysses_total = ulysees_leg1 + ulysees_leg2\n",
    "    \n",
    "    # return the difference between the two totals\n",
    "    difference = manny_total - ulysses_total\n",
    "    \n",
    "    return difference\n",
    "\n",
    "def main():\n",
    "    result1 = distance_difference(40, 30, 60, 70)\n",
    "    result2 = distance_difference(30, 30, 180, 210)\n",
    "    result3 = distance_difference(120, 90, 30, 30)\n",
    "    \n",
    "    print(result1)    # should be ~ 35.27\n",
    "    print(result2)    # should be ~ 113.26 \n",
    "    print(result3)    # should ~ 101.83   (tests when second point is to southwest of first point)\n",
    "    \n",
    "main()"
   ]
  },
  {
   "cell_type": "code",
   "execution_count": null,
   "id": "3e7d99bb",
   "metadata": {},
   "outputs": [],
   "source": []
  }
 ],
 "metadata": {
  "kernelspec": {
   "display_name": "Python 3",
   "language": "python",
   "name": "python3"
  },
  "language_info": {
   "codemirror_mode": {
    "name": "ipython",
    "version": 3
   },
   "file_extension": ".py",
   "mimetype": "text/x-python",
   "name": "python",
   "nbconvert_exporter": "python",
   "pygments_lexer": "ipython3",
   "version": "3.7.3"
  },
  "vscode": {
   "interpreter": {
    "hash": "09c4ae591166c936e747a285f8fe3b9d082ea45e9c830b1a7357993278b2ca12"
   }
  }
 },
 "nbformat": 4,
 "nbformat_minor": 5
}
