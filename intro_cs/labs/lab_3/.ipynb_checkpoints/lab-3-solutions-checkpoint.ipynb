{
 "cells": [
  {
   "cell_type": "markdown",
   "id": "ccb0485f",
   "metadata": {},
   "source": [
    "## Lab 3\n",
    "\n",
    "CS 109, Spring 2023 <br>\n",
    "Dr. Kell\n",
    "\n",
    "This lab should be completed in a group of three. You are free to work together as much as you like, but both of you will make seperate assignment submissions on Canvas.  The lab is due on Monday April 24 (4/24) at 11:59pm.\n",
    "\n",
    "<b>To receive full credit, be sure to write docstrings and to test each function for *multiple* cases inside a main() function.  </b>"
   ]
  },
  {
   "cell_type": "markdown",
   "id": "3f7781d7",
   "metadata": {},
   "source": [
    "## Problem 1 [5 points] \n",
    "\n",
    "Write a *recursive* Boolean function <code>is_even(x)</code> that returns <code>True</code> if a non-negative int <code>x</code> is even. Otherwise, the function should return <code>False</code>.  \n",
    "\n",
    "Your function must also be recursive: it must make at least one call to itself and may not use any loops. <b>Furthermore, your function may not use the %, /, or // operators</b> (however, you may/should use other arithmetic operators, such as + or -). "
   ]
  },
  {
   "cell_type": "code",
   "execution_count": 2,
   "id": "cb1c468c",
   "metadata": {},
   "outputs": [
    {
     "name": "stdout",
     "output_type": "stream",
     "text": [
      "False\n",
      "True\n",
      "True\n",
      "False\n",
      "False\n",
      "True\n"
     ]
    }
   ],
   "source": [
    "def is_even(x):\n",
    "    '''\n",
    "    Given an int x >= 1, determines if x is even without using // or %. \n",
    "    \n",
    "    Parameters: int x\n",
    "    Return Value: True if x is even; False otherwise.\n",
    "    '''\n",
    "    if x == 1:\n",
    "        return False\n",
    "    elif x == 2:\n",
    "        return True\n",
    "    return is_even(x-2) \n",
    "    \n",
    "def main(): \n",
    "    print(is_even(1))   # False \n",
    "    print(is_even(2))   # True\n",
    "    print(is_even(4))   # True\n",
    "    print(is_even(5))   # False\n",
    "    print(is_even(109))   # False\n",
    "    print(is_even(110))   # True \n",
    "    \n",
    "main() "
   ]
  },
  {
   "cell_type": "markdown",
   "id": "0f327771",
   "metadata": {},
   "source": [
    "## Problem 2 [5 points] \n",
    "\n",
    "Write a *recursive* function called <code>two_three_factors_only(x)</code> that given an <code>int x >= 2</code>, returns <code>True</code> if <code>x</code> can be expressed as *only* a product of 2s and 3s; otherwise, the function returns <code>False</code>. \n",
    "\n",
    "For example, the function should return <code>True</code> for a number like is 36 (since $36 = 2*2*3*3$), but return <code>False</code> for a number like 60 (since 5 is prime factor of 60, which cannot be broken down further into a product of 2s and 3s). \n",
    "\n",
    "Recall we solved this problem earlier in the semester using a while loop (solution can be found in the file <code>3-3-boolean-ops-solutions</code> on Canvas). However this time, your function must be recursive: it must make at least one call to itself and may not use any loops."
   ]
  },
  {
   "cell_type": "code",
   "execution_count": 1,
   "id": "af467acc",
   "metadata": {},
   "outputs": [
    {
     "name": "stdout",
     "output_type": "stream",
     "text": [
      "True\n",
      "False\n",
      "True\n",
      "True\n",
      "False\n",
      "True\n",
      "True\n",
      "False\n"
     ]
    }
   ],
   "source": [
    "def two_three_factors_only(x):\n",
    "    '''\n",
    "    Given an int x >= 2, determines if x can be expressed \n",
    "    as a product of only 2s and 3. \n",
    "    \n",
    "    Parameters: int x\n",
    "    Return Value: True if x is product of 2s and 3s; False otherwise\n",
    "    '''\n",
    "    if x == 2 or x == 3:\n",
    "        return True\n",
    "    elif x % 2 == 0:\n",
    "        return two_three_factors_only(x//2)\n",
    "    elif x % 3 == 0:\n",
    "        return two_three_factors_only(x//3)\n",
    "    return False\n",
    "    \n",
    "def main(): \n",
    "    \n",
    "    print(two_three_factors_only(36))   # True\n",
    "    print(two_three_factors_only(60))   # False\n",
    "    print(two_three_factors_only(2))    # True\n",
    "    print(two_three_factors_only(3))    # True\n",
    "    print(two_three_factors_only(5))    # False\n",
    "    print(two_three_factors_only(6))    # True\n",
    "    print(two_three_factors_only(15552))  # True\n",
    "    print(two_three_factors_only(108864)) # False\n",
    "    \n",
    "main() "
   ]
  },
  {
   "cell_type": "markdown",
   "id": "127fc91d",
   "metadata": {},
   "source": [
    "## Problem 3 [10 points] \n",
    "\n",
    "For two lists of ints <code>shorter</code> and <code>longer</code> where <code>len(shorter)</code> $\\leq$ <code>len(longer)</code>, define their <i>dominant list</i> to be a list with length <code>len(longer)</code> such that the first <code>len(shorter)</code> numbers in the dominant list are the larger values when comparing entries at the same index   (i.e., if <code>longer[0] > shorter[0]</code>, then the first number in the dominant list is <code>longer[0]</code>, and so on). The remaining numbers in the dominant list are then just the remaining numbers (if any) in <code>longer</code>. \n",
    "\n",
    "\n",
    "For example, if <code>shorter = [2, 3, 10, 7]</code> and <code>longer = [1, 4, 4, 9, 12, 3]</code>, then their dominant list is <code>[2, 4, 10, 9, 12, 3]</code> since $2 > 1$, $3 < 4$, $10 > 4$, and $ 7 < 9$. The last two numbers $12$ and $3$ are then the remaining numbers from <code>longer</code>. \n",
    "\n",
    "Write a *recursive* function <code>dominant_list(shorter, longer)</code> that takes in two lists of ints <code>shorter</code> and <code>longer</code> as parameters and returns the dominant list of <code>shorter</code> and <code>longer</code>.\n",
    "\n",
    "Recall we solved this problem using for loops in Quiz 5. However this time, your function must also be recursive: it must make at least one call to itself and may not use any loops.\n",
    "\n",
    "(Hint: Note that just like strings, you can also use the + operator on lists to concatenate two lists together, e.g., <code>[1,2,3,4,5] + [6,7,8] = [1, 2, 3, 4, 5, 6, 7, 8]</code>. This will likely be a useful operation to utilize in your recursive case.) "
   ]
  },
  {
   "cell_type": "code",
   "execution_count": 5,
   "id": "214a8c3e",
   "metadata": {},
   "outputs": [
    {
     "name": "stdout",
     "output_type": "stream",
     "text": [
      "[2, 4, 10, 9, 12, 3]\n",
      "[1, 2, 3]\n",
      "[2, 3, 4, 5]\n"
     ]
    }
   ],
   "source": [
    "def dominant_list(shorter, longer):\n",
    "    '''\n",
    "    Given two lists of numbers shorter and longer \n",
    "    computes their dominant list (see definition above). \n",
    "   \n",
    "    Parameters: lists longer and shorter, len(shorter) <= len(longer)\n",
    "    Return Value: dominant list of shorter and longer\n",
    "    '''\n",
    "    if len(shorter) == 0:\n",
    "        return longer\n",
    "    if shorter[0] >= longer[0]:\n",
    "        return [shorter[0]] + dominant_list(shorter[1:], longer[1:])\n",
    "    return [longer[0]] + dominant_list(shorter[1:], longer[1:])\n",
    "    \n",
    "def main(): \n",
    "    \n",
    "    print(dominant_list([2, 3, 10, 7], [1, 4, 4, 9, 12, 3])) # [2, 4, 10, 9, 12, 3]\n",
    "    print(dominant_list([], [1, 2, 3]))                      # [1, 2, 3]\n",
    "    print(dominant_list([1, 2, 3, 4], [2, 3, 4, 5]))         # [2, 3, 4, 5]\n",
    "    \n",
    "main() "
   ]
  },
  {
   "cell_type": "code",
   "execution_count": null,
   "id": "d32561d9",
   "metadata": {},
   "outputs": [],
   "source": []
  }
 ],
 "metadata": {
  "kernelspec": {
   "display_name": "Python 3",
   "language": "python",
   "name": "python3"
  },
  "language_info": {
   "codemirror_mode": {
    "name": "ipython",
    "version": 3
   },
   "file_extension": ".py",
   "mimetype": "text/x-python",
   "name": "python",
   "nbconvert_exporter": "python",
   "pygments_lexer": "ipython3",
   "version": "3.7.3"
  },
  "vscode": {
   "interpreter": {
    "hash": "09c4ae591166c936e747a285f8fe3b9d082ea45e9c830b1a7357993278b2ca12"
   }
  }
 },
 "nbformat": 4,
 "nbformat_minor": 5
}
