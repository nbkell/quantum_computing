{
 "cells": [
  {
   "cell_type": "markdown",
   "id": "5961ea85",
   "metadata": {},
   "source": [
    "## Lab 2\n",
    "\n",
    "CS 109, Fall 2022 <br>\n",
    "Dr. Kell\n",
    "\n",
    "This lab should be completed in a group of three. You are free to work together as much as you like, but both of you will make seperate assignment submissions on Canvas.  The lab is due on Tuesday November (11/15) at 11:59pm.\n",
    "\n",
    "<b>To receive full credit, be sure to write docstrings and to test each function for various cases inside a main() function.  </b>"
   ]
  },
  {
   "cell_type": "markdown",
   "id": "fc258b4a",
   "metadata": {},
   "source": [
    "## Problem 1 [10 points] \n",
    "Consider a scenario where we want to store a collection of numbers that has several duplicates, but the number of elements in the list is too large to store directly in memory. Therefore instead of storing the entire list, we instead decide to maintain a frequency table of its elements, represented as a dictionary.\n",
    "\n",
    "For example, if the original list was <code>L = [1, 3, 2, 2, 1, 5, 5, 4, 1, 1]</code>, we would now represent\n",
    "the list as the following dictionary: <code>LFreq = {1:4, 3:1, 2:2, 5:2, 4:1}</code>\n",
    "\n",
    "Given this setup, write a function <code>average(LFreq)</code> that takes in the <code>LFreq</code> representation of the list <code>L</code> and returns its average. \n",
    "\n",
    "<i> Important: Again, assume your code is intended for a list L that is too big to store directly in memory. You will receive little credit if your solution first \"recreates\" the standard representation of L in order to solve the problem. </i>"
   ]
  },
  {
   "cell_type": "code",
   "execution_count": 1,
   "id": "1c1e61a0",
   "metadata": {},
   "outputs": [
    {
     "name": "stdout",
     "output_type": "stream",
     "text": [
      "3.0\n",
      "4.0\n",
      "1.0\n"
     ]
    }
   ],
   "source": [
    "def average(LFreq):\n",
    "    '''\n",
    "    Given a dictionary that maps values to their frequencies \n",
    "    from a list, returns the average of the list. \n",
    "    \n",
    "    Parameters: dictionary LFreq (maps ints to ints)\n",
    "    Return Value: average of the list represented by Lfreq\n",
    "    '''\n",
    "    \n",
    "    totalValue = 0 \n",
    "    totalFreq = 0 \n",
    "    for val in LFreq: \n",
    "        totalFreq += LFreq[val]         # add current frequency to total frequency\n",
    "        totalValue += val*LFreq[val]    # add value times its frequency to the total value\n",
    "    return totalValue/totalFreq\n",
    "\n",
    "def main():\n",
    "    LFreq1 = {1:3, 3:2, 5:1, 7:1}    # e.g., L = [5, 1, 1, 3, 1, 3, 7]\n",
    "    LFreq2 = {1:5, 7:1, 10:2}        # e.g., L = [1, 1, 1, 10, 1, 1, 10, 7]\n",
    "    LFreq3 = {1:10}                  # e.g., L = [1, 1, 1, 1, 1, 1, 1, 1, 1, 1]\n",
    "    \n",
    "    print(average(LFreq1))    # 3.0\n",
    "    print(average(LFreq2))    # 4.0\n",
    "    print(average(LFreq3))    # 1.0\n",
    "    \n",
    "main()"
   ]
  },
  {
   "cell_type": "markdown",
   "id": "756554be",
   "metadata": {},
   "source": [
    "### Problem 2 [10 points] \n",
    "\n",
    "In this problem, you will write a function that uses an example encoded/decoded message to decode an encoded secret message.\n",
    "\n",
    "More specifically, as input the function is given two strings <code>exampleEncoded</code> and <code>exampleDecoded</code>\n",
    "where the former is the encoded version of the latter. \n",
    "Additionally, you are given a secret encoded message <code>mysteryEncoded</code> (which your function is tasked with decoding). Furthermore, you can assume that the encoding scheme simply uses a 1-to-1 correspondence between characters. \n",
    "Therefore, looking at <code>exampleEncoded</code>, we can see which characters they map to in\n",
    "<code>exampleDecoded</code> and then use this mapping to directly decipher <code>mysteryEncoded</code>.\n",
    "\n",
    "For example, suppose <code>exampleEncoded</code> and <code>exampleDecoded</code> are <code>\"rovvyley!vnj\"</code> and <code>\"hello world!\"</code>, respectively, and our secreted encoded message is <code>\"eyej\"</code>. \n",
    "Then, looking at our examples, we can see that <code>\"e\"</code> maps to <code>\"w\"</code> (the 7th characters of each respectively), and therefore the first and third characters in the secret message must decode to be <code>\"w\"</code>. \n",
    "Similarly, we can see that <code>\"y\"</code> maps to <code>\"o\"</code>, and <code>\"j\"</code> maps to <code>\"!\"</code>. Therefore, the secret message once decoded is <code>\"wow!\"</code>.\n",
    "\n",
    "\n",
    "Write a function <code>secretMessage(exampleEncoded, exampleDecoded, mysteryEncoded)</code>\n",
    "that returns the string that is <code>mysteryEncoded</code> once deciphered. \n",
    "You may assume all characters that appear in the mystery decoded string also appear in <code>exampleDecoded</code>\n",
    "(otherwise, you would not have enough information to completely decipher the message). \n",
    "\n",
    "<i>(Hint: Use the strings <code>exampleEncoded</code> and <code>exampleDecoded</code> to create a dictionary that maps characters in a encoded string to their corresponding characters in a decoded string. Then use your dictionary to decode <code>mysteryEncoded</code>.)</i>"
   ]
  },
  {
   "cell_type": "code",
   "execution_count": 2,
   "id": "56ce5bb9",
   "metadata": {},
   "outputs": [
    {
     "name": "stdout",
     "output_type": "stream",
     "text": [
      "wow!\n",
      "but i still like dogs better than foxes\n",
      "at least the dwarf did not get tossed\n",
      "wait, what\n"
     ]
    }
   ],
   "source": [
    "def secretMessage(exampleEncoded, exampleDecoded, mysteryEncoded): \n",
    "    ''' \n",
    "    Given two strings that show how an exampled encoded message is decoded,\n",
    "    returns the decoded version of another encoded string. \n",
    "    \n",
    "    Parameters: strings exampledEncoded, exampleDecoded, mysteryEncoded\n",
    "    Return Value: decoded message from mysteryEncoded \n",
    "    '''\n",
    "    \n",
    "    # use exampledEncoded and exampleDecoded to create dictionary\n",
    "    # maps an encoded character to its decoded character\n",
    "    decoder = {}                                       \n",
    "    for i in range(len(exampleEncoded)):      \n",
    "        decoder[exampleEncoded[i]] = exampleDecoded[i]\n",
    "        \n",
    "    # use decoder dictionary to decode mysteryEncoded \n",
    "    decodedMystery = \"\"\n",
    "    for char in mysteryEncoded: \n",
    "        decodedMystery += decoder[char]\n",
    "    return decodedMystery\n",
    "\n",
    "def main():\n",
    "    result1 = secretMessage(\"rovvyley!vnj\", \"hello world!\", \"eyej\")\n",
    "    \n",
    "    str1 = \"1pmhy,qkshnwbhr,ux!hw mzh1pmhtidchjzwavhlwo\"\n",
    "    str2 = \"the quick fox jumps over the lazy brown dog\"\n",
    "    str3 = \"j,1hqh!1qtthtqsmhlwo!hjm11mzh1pivhnwbm!\"\n",
    "    result2 = secretMessage(str1, str2, str3)\n",
    "    \n",
    "    str1 = \"fxupcgys!pa kjpwar1y pzg,bepahudpfxup1qlkptiqdv\"\n",
    "    str2 = \"the quick onyx goblin jumps over the lazy dwarf\"\n",
    "    str3 = \"qfp1uqefpfxuptiqdvptytp afpwufpfaeeut\"\n",
    "    result3 = secretMessage(str1, str2, str3)\n",
    "    \n",
    "    str1 = \"ebxy jpavpr1qs!pcgqdflopzgtwup,kphai\"\n",
    "    str2 = \"sphinx of black quartz, judge my vow\"\n",
    "    str3 = \"iqyfopixqf\"\n",
    "    result4 = secretMessage(str1, str2, str3)\n",
    "    \n",
    "    print(result1)\n",
    "    print(result2)\n",
    "    print(result3)\n",
    "    print(result4)\n",
    "    \n",
    "main()"
   ]
  },
  {
   "cell_type": "code",
   "execution_count": null,
   "id": "c67fb28c",
   "metadata": {},
   "outputs": [],
   "source": []
  }
 ],
 "metadata": {
  "kernelspec": {
   "display_name": "Python 3",
   "language": "python",
   "name": "python3"
  },
  "language_info": {
   "codemirror_mode": {
    "name": "ipython",
    "version": 3
   },
   "file_extension": ".py",
   "mimetype": "text/x-python",
   "name": "python",
   "nbconvert_exporter": "python",
   "pygments_lexer": "ipython3",
   "version": "3.7.3"
  },
  "vscode": {
   "interpreter": {
    "hash": "09c4ae591166c936e747a285f8fe3b9d082ea45e9c830b1a7357993278b2ca12"
   }
  }
 },
 "nbformat": 4,
 "nbformat_minor": 5
}
