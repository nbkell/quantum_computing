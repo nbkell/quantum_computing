{
 "cells": [
  {
   "cell_type": "markdown",
   "metadata": {},
   "source": [
    "<b>Coding Assignment 3<br>\n",
    "CS 401: Quantum Computing <br>\n",
    "Dr. Kell, Spring 2023 </b>\n",
    "\n",
    "<b> Instructions </b> \n",
    "\n",
    "To complete the assignment, please fill in all coding cells as instructed below, and then submit the file on Notebowl once completed. Before you turn in your submission, make sure everything runs as expected. First, restart the kernel (in the menubar, select Kernel → Restart) and then run all cells (in the menubar, select Cell → Run All). Make sure you fill in any place that says YOUR CODE GOES HERE.\n",
    "    \n",
    "<b> Constraints on references and collaborations</b>\n",
    "\n",
    "<em>This is a Partner Assignment:</em> You will work on this assignment with a partner (submit one notebook file per group). \n",
    "    \n",
    " <item> <i> You and your partner may:</i> Reference any chapter from the course textbook, references, and relevant Wikipedia pages. You are permitted to discuss high-level ideas with other groups (but please do so sparringly). \n",
    "     \n",
    " <item> <i> You may not</i>: \n",
    "     \n",
    "* You may not share code or work with other groups when writing your code.\n",
    "<br> \n",
    "     \n",
    "* Reference Qiskit's Deutsch-Jozsa guide (This is Chapter 3.2 in the Qiskit online textbook.)\n",
    "    \n",
    "<b> Finally: Be sure to use proper coding style for all your solutions!</b> For example, you should write docstrings for all functions, include useful in-line comments explaining how your code works, write clean code with readable variable names, etc.. You will lose points if you write sloppy code with poor style (e.g., not writing docstrings for any of your functions). \n",
    "    \n",
    "Best of luck!\n"
   ]
  },
  {
   "cell_type": "code",
   "execution_count": 1,
   "metadata": {},
   "outputs": [],
   "source": [
    "import numpy as np, cmath\n",
    "from qiskit import QuantumCircuit, QuantumRegister, ClassicalRegister, assemble, Aer\n",
    "from qiskit.quantum_info import Statevector\n",
    "from qiskit.visualization import array_to_latex, state_visualization\n",
    "from qiskit.visualization import plot_bloch_multivector, plot_histogram, plot_state_city \n",
    "import qis401 "
   ]
  },
  {
   "cell_type": "code",
   "execution_count": 2,
   "metadata": {},
   "outputs": [],
   "source": [
    "NAME = \"Dr. Kell\""
   ]
  },
  {
   "cell_type": "markdown",
   "metadata": {},
   "source": [
    "## Part 1 [15 points] \n",
    "In this first part, you will implement the Deutsch-Jozsa algorithm using Qiskit.  You must structure your solution by implementing the following API:\n",
    "\n",
    "* <code>make_constant(circ, x_reg, y_reg)</code>: Takes in a QuantumCircuit object <code>circ</code> and QuantuamRegisters <code>x_reg</code> and <code>y_reg</code> as parameters (n-qubit and 1-qubit registers, respectively). The function then updates <code>circ</code> to include gates that collectively implement the $U_f$ operator corresponding to the constant function $f(x)= 1$ for all $x$. The function should also call the <code>barrier()</code> method at the beginning and end of the function to block off $U_f$ gate portion of the circuit. Note there is a much simpler circuit implementation than the one given in the Lecture 15-16 Deutsch's Algorithm slides. In particular, think about how to implement the circuit using only X gate(s) and then generalize the method to work on $n$ qubits.\n",
    "\n",
    "\n",
    "* <code>make_balanced(circ, x_reg, y_reg)</code>: Again takes in a QuantumCircuit <code>circ</code> and QuantuamRegisters <code>x_reg</code> and <code>y_reg</code> as parameters, and then adds the quantum gates that implement the $U_f$ gate corresponding to the balanced function $f(x)= 0$ if $x$ has an even number of 1s; otherwise $f(x)= 1$ (this is a generalization of the XOR function at the end of the Lecture 17-19 Deutsch-Jozsa slides; think about how to extend this circuit to work for $n$-qubits). Again, the function should also call the <code>barrier()</code> method at the beginning and end.\n",
    "\n",
    "\n",
    "* <code>deutsch_jozsa(n, uf_maker)</code>: Takes in a positive int <code>n</code> and a function <code>uf_maker</code>, the latter of which will either be the function <code>make_constant()</code> or <code>make_balanced()</code>. The function should then create and simulate a quantum circuit that implements the Deutsch-Jozsa algorithm, where the instructions for creating the $U_f$ gate is given by <code>uf_maker</code>. The function then returns a three tuple <code>(circ, answer, result)</code>, where <code>circ</code> is the QuantumCircuit object itself, <code>answer</code> is a string specifying the answer to the problem (either \"Constant\" or \"Balanced\"), and <code>result</code> is a Qiskit result object that it returned by calling <code>qis401.simulate_circuit()</code> on your circuit. \n",
    "\n",
    "\n",
    "Implement the above functions in a single cell. To generate your output, in subseqeunt cells call the <code>deutsch_josza()</code> function twice, passing in <code>make_constant()</code> for <code>uf_maker</code> for one call and  <code>make_balanced()</code> for the other (set $n = 5$ for both calls). For each call, write cell(s) that display both <code>circ</code> and <code>answer</code>. Then, call the function <code>plot_histogram()</code> on <code>result.get_counts()</code> to display the results of the simulation as histogram. (The measurement results for constant and balanced should 00000 and 11111 for 100% of the simulations, respectively,). \n"
   ]
  },
  {
   "cell_type": "code",
   "execution_count": 3,
   "metadata": {},
   "outputs": [],
   "source": [
    "def make_constant(circ, x_reg, y_reg):\n",
    "    ''' \n",
    "    Adds a Uf gate to a circuit where f(x) = 1 for all x\n",
    "    \n",
    "    Args:\n",
    "        circ: QuantumCircuit object to which the gate is added \n",
    "        x_reg: n-qubit QuantumRegister input to Uf gate\n",
    "        y_reg: 1-qubit QuantumRegister target qubit\n",
    "    @return:\n",
    "        constant Uf gate has been added to the circ \n",
    "    '''\n",
    "    # simply need to apply x-gate to y qubit to set f(x) = 1 \n",
    "    circ.barrier()\n",
    "    circ.x(y_reg)\n",
    "    circ.barrier()\n",
    "    \n",
    "def make_balanced(circ, x_reg, y_reg):\n",
    "    ''' \n",
    "    Adds a Uf gate to a circuit where for f such that \n",
    "    f(x) = 0 if x has an even number of 1s; otherwise f(x) = 1\n",
    "    \n",
    "    Args:\n",
    "        circ: QuantumCircuit object to which the gate is added \n",
    "        x_reg: n-qubit QuantumRegister input to Uf\n",
    "        y_reg: 1-qubit QuantumRegister target qubit\n",
    "    @return:\n",
    "        balanced Uf gate has been added to the circ \n",
    "    '''\n",
    "    # desired balanced function corresponds CX(x,y) on each qubit in reg x \n",
    "    # proof sketch: \n",
    "    #   1. inductively assume the gate implementation is correct for first k-1 qubits \n",
    "    #   2. when adding kth qubit q, if q = 0 CX gate doesn't change y's value\n",
    "    #       (as desired, since adding an additional 0 does not change the number of 1s)\n",
    "    #   3. in constrast if q = 1, CX gate will flip the value of y in each basis state \n",
    "    #       (as desired, since now even 1s -> odd 1s and odd 1s -> even 1s)\n",
    "    circ.barrier()\n",
    "    circ.cx(x_reg, y_reg)\n",
    "    circ.barrier()\n",
    "    \n",
    "def deutsch_jozsa(n, uf_maker): \n",
    "    ''' \n",
    "    Creates a quantum circuit that implements the Deutsch-Jozsa algorithm.\n",
    "    \n",
    "    Args:\n",
    "        n: number of input bits to function\n",
    "        uf_maker: function that creates Uf gate (either constant or balanced)\n",
    "    Returns:\n",
    "        answer: string = \"Constant\" or \"Balanced\" based on output of algorithm\n",
    "        circ: QuantumCircuit that implements the algorithm \n",
    "        result: Result object that containing meta-data on algo simulation  \n",
    "    '''\n",
    "    # set up registers of the circuit \n",
    "    x_reg = QuantumRegister(n, \"x\")\n",
    "    y_reg = QuantumRegister(1, \"y\")\n",
    "    meas_reg = ClassicalRegister(n, 'measure')\n",
    "\n",
    "    circ = QuantumCircuit(x_reg, y_reg, meas_reg)\n",
    "\n",
    "    # prepare x input registers (hadamard operation on |0>s)\n",
    "    circ.h(x_reg)\n",
    "\n",
    "    # prepare y register (hadamard operation on |1>)\n",
    "    circ.x(y_reg)\n",
    "    circ.h(y_reg)\n",
    "\n",
    "    # add Uf gate to circuit  \n",
    "    uf_maker(circ, x_reg, y_reg)\n",
    "    \n",
    "    # apply final hadmard and then measure \n",
    "    circ.h(x_reg)\n",
    "    circ.barrier()\n",
    "    circ.measure(x_reg, meas_reg)\n",
    "    \n",
    "    # simulate circuit and get one of the outputs\n",
    "    result = qis401.simulate_circuit(circ)\n",
    "    \n",
    "    # output 'Constant' if output was all 0s; otherwise 'Balanced'\n",
    "    answer = 'Balanced'\n",
    "    if n*'0' in result.get_counts():\n",
    "        answer = 'Constant'\n",
    "    return answer, circ, result"
   ]
  },
  {
   "cell_type": "code",
   "execution_count": 4,
   "metadata": {},
   "outputs": [
    {
     "data": {
      "text/plain": [
       "'Constant'"
      ]
     },
     "execution_count": 4,
     "metadata": {},
     "output_type": "execute_result"
    }
   ],
   "source": [
    "answer, circ, result = deutsch_jozsa(5, make_constant)\n",
    "answer"
   ]
  },
  {
   "cell_type": "code",
   "execution_count": 5,
   "metadata": {},
   "outputs": [
    {
     "data": {
      "image/png": "[encoded data removed]",
      "text/plain": [
       "<Figure size 1054.49x445.48 with 1 Axes>"
      ]
     },
     "execution_count": 5,
     "metadata": {},
     "output_type": "execute_result"
    }
   ],
   "source": [
    "circ.draw(output='mpl')"
   ]
  },
  {
   "cell_type": "code",
   "execution_count": 6,
   "metadata": {},
   "outputs": [
    {
     "data": {
      "image/png": "[encoded data removed]",
      "text/plain": [
       "<Figure size 504x360 with 1 Axes>"
      ]
     },
     "execution_count": 6,
     "metadata": {},
     "output_type": "execute_result"
    }
   ],
   "source": [
    "plot_histogram(result.get_counts())"
   ]
  },
  {
   "cell_type": "code",
   "execution_count": 7,
   "metadata": {},
   "outputs": [
    {
     "data": {
      "text/plain": [
       "'Balanced'"
      ]
     },
     "execution_count": 7,
     "metadata": {},
     "output_type": "execute_result"
    }
   ],
   "source": [
    "answer, circ, result = deutsch_jozsa(5, make_balanced)\n",
    "answer"
   ]
  },
  {
   "cell_type": "code",
   "execution_count": 8,
   "metadata": {},
   "outputs": [
    {
     "data": {
      "image/png": "[encoded data removed]",
      "text/plain": [
       "<Figure size 1295.29x445.48 with 1 Axes>"
      ]
     },
     "execution_count": 8,
     "metadata": {},
     "output_type": "execute_result"
    }
   ],
   "source": [
    "circ.draw(output='mpl')"
   ]
  },
  {
   "cell_type": "code",
   "execution_count": 9,
   "metadata": {},
   "outputs": [
    {
     "data": {
      "image/png": "[encoded data removed]",
      "text/plain": [
       "<Figure size 504x360 with 1 Axes>"
      ]
     },
     "execution_count": 9,
     "metadata": {},
     "output_type": "execute_result"
    }
   ],
   "source": [
    "plot_histogram(result.get_counts())"
   ]
  },
  {
   "cell_type": "markdown",
   "metadata": {},
   "source": [
    "## Part 2 [40 points] \n",
    "\n",
    "In the next two parts, you will now work towards implementing Deutsch-Jozsa using numpy matrix operations. In this first part, you will write general purpose functions that create unitary matrices that correspond to gates in the algorithm. In particular, implement the following functions in the cell below. \n",
    "\n",
    "* <code>h_op(q, n):</code> Takes in positive ints <code>q</code> and <code>n</code>, and returns the $2^{n} \\times 2^{n}$ unitary matrix that applies a Hadamard gate to the qth qubit (0-indexed). \n",
    "\n",
    "\n",
    "* <code>x_op(q, n):</code> Takes in positive ints <code>n</code> and <code>q</code>, and returns the $2^{n} \\times 2^{n}$ unitary matrix that applies an X gate to the qth qubit (0-indexed). \n",
    "\n",
    "* <code>cx_op(q1, q2, n):</code> Takes in positive ints <code>q1</code>, <code>q2</code>, and <code>n</code>, and return the $2^{n} \\times 2^{n}$ unitary matrix that applies a CX gate with <code>q1</code> as the control qubit and <code>q2</code> as the target qubit. You must compute your answer using the method we saw in class via permutation matrices (this will be the bulk of the work for this part; feel free to write additional functions to aid with the calculation). <b>Note that your code must manually calculate the permutation matrices from scratch!</b> (You will  receive little/no credit on this function if you use some kind of built-in function in Qiskit, Numpy, etc. that essentially does the calculation for you). "
   ]
  },
  {
   "cell_type": "code",
   "execution_count": 10,
   "metadata": {},
   "outputs": [],
   "source": [
    "# quantum gate matrices used for calculating unitary operators\n",
    "I = np.identity(2)\n",
    "X = np.array([[0, 1], [1, 0]])\n",
    "H = np.array([[1, 1], [1, -1]])/cmath.sqrt(2)\n",
    "CX = np.array([[1,0,0,0], [0,1,0,0], [0,0,0,1], [0,0,1,0]])\n",
    "\n",
    "def int_to_binary(num, n):\n",
    "    '''\n",
    "    Converts int to n-bit binary representation.\n",
    "    \n",
    "    Args: ints num and n\n",
    "    Returns: binary string rep of num (with padded 0s if needed)\n",
    "    '''\n",
    "    binary = bin(num)[2:]\n",
    "    pad = '0'*(n - len(binary))\n",
    "    return pad + binary \n",
    "    \n",
    "def swap_bits(binary, pos1, pos2):\n",
    "    '''\n",
    "    Swaps the bits at two positions in a binary string.\n",
    "    \n",
    "    Args: string binary containing 0s and 1s; indices pos1 and pos2\n",
    "    Returns: binary string where binary[pos1] and binary[pos2] have swapped\n",
    "    '''\n",
    "    if pos1 == pos2:\n",
    "        return binary\n",
    "    b1, b2 = binary[pos1], binary[pos2]\n",
    "    swap = binary[:pos1] + b2 + binary[pos1+1:pos2] + b1 + binary[pos2+1:]\n",
    "    return swap\n",
    "\n",
    "def permutation_matrix(n, swap_list):\n",
    "    '''\n",
    "    Computes a permutation matrix that swaps a set of qubit pairs.\n",
    "    \n",
    "    Args: \n",
    "        int n: number of qubits in corresponding circuit\n",
    "        swap_list: list of tuple specifying qubits to be swapped (0-indexed)\n",
    "    Returns:\n",
    "        permute: permutation matrix as a numpy array\n",
    "    '''\n",
    "    permute = np.array([[0 for j in range(2**n)] for i in range(2**n)])\n",
    "    for state in range(2**n):\n",
    "        # get current basis state as binary string \n",
    "        cur_binary = int_to_binary(state, n)\n",
    "\n",
    "        # calculate swapped binary string once applying each swap in swap_list\n",
    "        swap = cur_binary\n",
    "        for pair in swap_list:\n",
    "            swap = swap_bits(swap, pair[0], pair[1])\n",
    "\n",
    "        # place a 1 in corresponding row in the permutation matrix\n",
    "        swap_index = int(swap, 2)\n",
    "        permute[swap_index][state] = 1\n",
    "        \n",
    "    return permute\n",
    "    \n",
    "def cx_op(q1, q2, n):\n",
    "    '''\n",
    "    Computes matrix operator that applies CX(q1,q2) in an n-qubit circuit.\n",
    "    \n",
    "    Args: ints q1, q2, and n.\n",
    "    Returns: matrix for CX(q1,q2) as a numpy array\n",
    "    '''\n",
    "    # swap q1 with 0 and and q2 with 1\n",
    "    swaps = [(0,q1), (1, q2)]\n",
    "    permute = permutation_matrix(n, swaps)\n",
    "    \n",
    "    # compute matrix for CX(0,1)\n",
    "    tens = CX\n",
    "    for repeat in range(n-2):\n",
    "        tens = np.kron(tens, I)\n",
    "        \n",
    "    # permuate CX(0,1) to obtain the operator\n",
    "    return permute @ tens @ permute\n",
    "\n",
    "def h_op(q, n):\n",
    "    '''\n",
    "    Computes the matrix operator that applies H(q) in an n-qubit circuit.\n",
    "    \n",
    "    Args: ints q and n\n",
    "    Returns: matrix for H(q) as a numpy array\n",
    "    '''\n",
    "    tens = 1 \n",
    "    for index in range(n):\n",
    "        if index == q:\n",
    "            tens = np.kron(tens, H)\n",
    "        else:\n",
    "            tens = np.kron(tens, I)\n",
    "    return tens \n",
    "\n",
    "def x_op(q, n):\n",
    "    '''\n",
    "    Computes the matrix operator that applies X(q) in an n-qubit circuit.\n",
    "    \n",
    "    Args: ints q and n\n",
    "    Returns: matrix for X(q) as a numpy array\n",
    "    '''\n",
    "    tens = 1\n",
    "    for index in range(n):\n",
    "        if index == q:\n",
    "            tens = np.kron(tens, X)\n",
    "        else:\n",
    "            tens = np.kron(tens, I)\n",
    "    return tens "
   ]
  },
  {
   "cell_type": "markdown",
   "metadata": {},
   "source": [
    "## Part 3 [20 points] \n",
    "\n",
    "You will now implement Deutsch-Jozsa using your API from Part 2. In particular, you should adapt the functions from Part 1 as follows. \n",
    "\n",
    "* <code>make_constant(n)</code>: Takes in an int <code>n</code> and returns the $2^{n+1} \\times 2^{n+1}$ unitary matrix $U_f$ operator represented as a numpy array. As in Part 1, the function $f$ used to define the operator must be the constant function $f(x)= 1$ for all $x$. \n",
    "\n",
    "\n",
    "* <code>make_balanced(n)</code>: Also takes in an int <code>n</code> and returns the $2^{n+1} \\times 2^{n+1}$ unitary matrix for the n $U_f$ operator represented as a numpy array. Again as in Part 1, the function $f$ used to define the operator must be the balanced function $f(x)= 0$ if $x$ has an even number of 1s (otherwise $f(x)= 1$).\n",
    "\n",
    "\n",
    "* <code>deutsch_jozsa(n, uf_maker)</code>: Takes in a positive int <code>n</code> and a function <code>uf_maker</code>. As in Part 1,  the passed in function <code>uf_maker</code> will either be <code>make_constant()</code> or <code>make_balanced()</code>. The function nows a two tuple <code>(answer, final_state)</code>, where <code>answer</code> is still a string specifying the answer to the problem, and <code>final_state</code> is a Statevector object specifying the final quantum state of the circuit before measurement.\n",
    "\n",
    "Implement the above functions in a single cell. To generate your output, again call this version of the <code>deutsch_jozsa</code> function twice in the cell(s) below, passing in <code>make_constant()</code> for <code>uf_maker</code> for one call and  <code>make_balanced()</code> for the other (again set $n = 5$ for both calls). In addition to printing the string <code>answer</code>, use the Statevector method <code>draw()</code> to display the final quantum state in bra-ket notation (the final states for constant and balanced should be $-\\frac{\\sqrt{2}}{2}|000000\\rangle + \\frac{\\sqrt{2}}{2}|000001\\rangle$ and $\\frac{\\sqrt{2}}{2}|111110\\rangle - \\frac{\\sqrt{2}}{2}|111111\\rangle$, respectively).\n"
   ]
  },
  {
   "cell_type": "code",
   "execution_count": 11,
   "metadata": {},
   "outputs": [],
   "source": [
    "def make_constant(n):\n",
    "    ''' \n",
    "    Returns matrix that applies Uf gate where f(x) = 1 for all x.\n",
    "    \n",
    "    Args: int n (number of qubits in circuit )\n",
    "    Returns: matrix for constant function Uf gate as a numpy array \n",
    "    '''\n",
    "    return x_op(n, n+1)\n",
    "    \n",
    "def make_balanced(n):\n",
    "    ''' \n",
    "    Returns matrix that applies Uf gate for f such that \n",
    "    f(x) = 0 if x has an even number of 1s; otherwise f(x) = 1.\n",
    "    \n",
    "    Args: int n (number of qubits in circuit)\n",
    "    Returns: matrix for balanced function Uf gate as a numpy array  \n",
    "    '''\n",
    "    cx_chain = cx_op(0, n, n+1)\n",
    "    for i in range(1, n):\n",
    "        cx_chain = cx_op(i, n, n+1) @ cx_chain \n",
    "    return cx_chain\n",
    "\n",
    "def deutsch_jozsa(n, uf_maker): \n",
    "    '''\n",
    "    Numpy implementation of Deutsch-Jozsa algorithm.\n",
    "    \n",
    "    Args:\n",
    "        n: number of input bits to function\n",
    "        uf_maker: function that returns Uf gate as matrix\n",
    "    Returns:\n",
    "        answer: string = \"Constant\" or \"Balanced\" based on output of algorithm\n",
    "        final_sv: Statevector object containing final quantum state of the algo \n",
    "    '''\n",
    "    # initialize state to be all 0s \n",
    "    start_state = np.array([0 for i in range(2**(n+1))])\n",
    "    start_state[0] = 1\n",
    "\n",
    "    # applies hadamard on first n qubits\n",
    "    h_on_x = np.identity(2**(n+1))\n",
    "    for q in range(n):\n",
    "        h_on_x = h_on_x @ h_op(q, n+1)\n",
    "\n",
    "    # initializes y qubit to be in |->\n",
    "    init_y = h_op(n, n+1) @ x_op(n, n+1)\n",
    "\n",
    "    # create the corresponding oracle operator\n",
    "    oracle_op = uf_maker(n)\n",
    "    \n",
    "    # apply algorithm as a sequence of matrix multiplications\n",
    "    final_state = h_on_x @ oracle_op @ init_y @ h_on_x @ start_state\n",
    "    \n",
    "    # return answer based on probs in final state vector\n",
    "    answer = 'Balanced' \n",
    "    if np.round(final_state[0], 2) != 0 :\n",
    "        return ('Constant', Statevector(final_state))\n",
    "    final_sv = Statevector(final_state)\n",
    "    return (answer, fina_sv)"
   ]
  },
  {
   "cell_type": "code",
   "execution_count": 12,
   "metadata": {},
   "outputs": [
    {
     "name": "stdout",
     "output_type": "stream",
     "text": [
      "Constant\n"
     ]
    },
    {
     "data": {
      "text/latex": [
       "$$- \\frac{\\sqrt{2}}{2} |000000\\rangle+\\frac{\\sqrt{2}}{2} |000001\\rangle$$"
      ],
      "text/plain": [
       "<IPython.core.display.Latex object>"
      ]
     },
     "execution_count": 12,
     "metadata": {},
     "output_type": "execute_result"
    }
   ],
   "source": [
    "answer, state = deutsch_jozsa(5, make_constant)\n",
    "print(answer)\n",
    "Statevector(state).draw(output='latex')"
   ]
  },
  {
   "cell_type": "code",
   "execution_count": 13,
   "metadata": {
    "scrolled": false
   },
   "outputs": [
    {
     "ename": "NameError",
     "evalue": "name 'fina_sv' is not defined",
     "output_type": "error",
     "traceback": [
      "\u001b[1;31m---------------------------------------------------------------------------\u001b[0m",
      "\u001b[1;31mNameError\u001b[0m                                 Traceback (most recent call last)",
      "\u001b[1;32m~\\AppData\\Local\\Temp\\ipykernel_2336\\3212437738.py\u001b[0m in \u001b[0;36m<module>\u001b[1;34m\u001b[0m\n\u001b[1;32m----> 1\u001b[1;33m \u001b[0manswer\u001b[0m\u001b[1;33m,\u001b[0m \u001b[0mstate\u001b[0m \u001b[1;33m=\u001b[0m \u001b[0mdeutsch_jozsa\u001b[0m\u001b[1;33m(\u001b[0m\u001b[1;36m5\u001b[0m\u001b[1;33m,\u001b[0m \u001b[0mmake_balanced\u001b[0m\u001b[1;33m)\u001b[0m\u001b[1;33m\u001b[0m\u001b[1;33m\u001b[0m\u001b[0m\n\u001b[0m\u001b[0;32m      2\u001b[0m \u001b[0mprint\u001b[0m\u001b[1;33m(\u001b[0m\u001b[0manswer\u001b[0m\u001b[1;33m)\u001b[0m\u001b[1;33m\u001b[0m\u001b[1;33m\u001b[0m\u001b[0m\n\u001b[0;32m      3\u001b[0m \u001b[0mStatevector\u001b[0m\u001b[1;33m(\u001b[0m\u001b[0mstate\u001b[0m\u001b[1;33m)\u001b[0m\u001b[1;33m.\u001b[0m\u001b[0mdraw\u001b[0m\u001b[1;33m(\u001b[0m\u001b[0moutput\u001b[0m\u001b[1;33m=\u001b[0m\u001b[1;34m'latex'\u001b[0m\u001b[1;33m)\u001b[0m\u001b[1;33m\u001b[0m\u001b[1;33m\u001b[0m\u001b[0m\n",
      "\u001b[1;32m~\\AppData\\Local\\Temp\\ipykernel_2336\\3564586585.py\u001b[0m in \u001b[0;36mdeutsch_jozsa\u001b[1;34m(n, uf_maker)\u001b[0m\n\u001b[0;32m     55\u001b[0m         \u001b[1;32mreturn\u001b[0m \u001b[1;33m(\u001b[0m\u001b[1;34m'Constant'\u001b[0m\u001b[1;33m,\u001b[0m \u001b[0mStatevector\u001b[0m\u001b[1;33m(\u001b[0m\u001b[0mfinal_state\u001b[0m\u001b[1;33m)\u001b[0m\u001b[1;33m)\u001b[0m\u001b[1;33m\u001b[0m\u001b[1;33m\u001b[0m\u001b[0m\n\u001b[0;32m     56\u001b[0m     \u001b[0mfinal_sv\u001b[0m \u001b[1;33m=\u001b[0m \u001b[0mStatevector\u001b[0m\u001b[1;33m(\u001b[0m\u001b[0mfinal_state\u001b[0m\u001b[1;33m)\u001b[0m\u001b[1;33m\u001b[0m\u001b[1;33m\u001b[0m\u001b[0m\n\u001b[1;32m---> 57\u001b[1;33m     \u001b[1;32mreturn\u001b[0m \u001b[1;33m(\u001b[0m\u001b[0manswer\u001b[0m\u001b[1;33m,\u001b[0m \u001b[0mfina_sv\u001b[0m\u001b[1;33m)\u001b[0m\u001b[1;33m\u001b[0m\u001b[1;33m\u001b[0m\u001b[0m\n\u001b[0m",
      "\u001b[1;31mNameError\u001b[0m: name 'fina_sv' is not defined"
     ]
    }
   ],
   "source": [
    "answer, state = deutsch_jozsa(5, make_balanced)\n",
    "print(answer)\n",
    "Statevector(state).draw(output='latex')"
   ]
  },
  {
   "cell_type": "code",
   "execution_count": null,
   "metadata": {},
   "outputs": [],
   "source": []
  }
 ],
 "metadata": {
  "celltoolbar": "Create Assignment",
  "kernelspec": {
   "display_name": "Python 3",
   "language": "python",
   "name": "python3"
  },
  "language_info": {
   "codemirror_mode": {
    "name": "ipython",
    "version": 3
   },
   "file_extension": ".py",
   "mimetype": "text/x-python",
   "name": "python",
   "nbconvert_exporter": "python",
   "pygments_lexer": "ipython3",
   "version": "3.7.3"
  }
 },
 "nbformat": 4,
 "nbformat_minor": 2
}
