{
 "cells": [
  {
   "cell_type": "markdown",
   "metadata": {},
   "source": [
    "<b>Coding Assignment 3<br>\n",
    "CS 401: Quantum Computing <br>\n",
    "Dr. Kell, Spring 2023 </b>\n",
    "\n",
    "<b> Instructions </b> \n",
    "\n",
    "To complete the assignment, please fill in all coding cells as instructed below, and then submit the file on Notebowl once completed. Before you turn in your submission, make sure everything runs as expected. First, restart the kernel (in the menubar, select Kernel → Restart) and then run all cells (in the menubar, select Cell → Run All). Make sure you fill in any place that says YOUR CODE GOES HERE.\n",
    "    \n",
    "<b> Constraints on references and collaborations</b>\n",
    "\n",
    "<em>This is a Partner Assignment:</em> You will work on this assignment with a partner (submit one notebook file per group). \n",
    "    \n",
    " <item> <i> You and your partner may:</i> Reference any chapter from the course textbook, references, and relevant Wikipedia pages. You are permitted to discuss high-level ideas with other groups (but please do so sparringly). \n",
    "     \n",
    " <item> <i> You may not</i>: \n",
    "     \n",
    "* You may not share code or work with other groups when writing your code.\n",
    "<br> \n",
    "     \n",
    "* Reference Qiskit's Deutsch-Jozsa guide (This is Chapter 3.2 in the Qiskit online textbook.)\n",
    "    \n",
    "<b> Finally: Be sure to use proper coding style for all your solutions!</b> For example, you should write docstrings for all functions, include useful in-line comments explaining how your code works, write clean code with readable variable names, etc.. You will lose points if you write sloppy code with poor style (e.g., not writing docstrings for any of your functions). \n",
    "    \n",
    "Best of luck!\n"
   ]
  },
  {
   "cell_type": "code",
   "execution_count": null,
   "metadata": {},
   "outputs": [],
   "source": [
    "# Specify your names below\n",
    "NAME1 = \"Partner 1's Name\"\n",
    "NAME2 = \"Partner 2's Name\""
   ]
  },
  {
   "cell_type": "code",
   "execution_count": null,
   "metadata": {},
   "outputs": [],
   "source": [
    "import numpy as np, cmath\n",
    "from qiskit import QuantumCircuit, QuantumRegister, ClassicalRegister, assemble, Aer\n",
    "from qiskit.quantum_info import Statevector\n",
    "from qiskit.visualization import array_to_latex, state_visualization\n",
    "from qiskit.visualization import plot_bloch_multivector, plot_histogram, plot_state_city \n",
    "import qis401 "
   ]
  },
  {
   "cell_type": "markdown",
   "metadata": {},
   "source": [
    "## Part 1 [15 points] \n",
    "In this first part, you will implement the Deutsch-Jozsa algorithm using Qiskit.  You must structure your solution by implementing the following API:\n",
    "\n",
    "* <code>make_constant(circ, x_reg, y_reg)</code>: Takes in a QuantumCircuit object <code>circ</code> and QuantuamRegisters <code>x_reg</code> and <code>y_reg</code> as parameters (n-qubit and 1-qubit registers, respectively). The function then updates <code>circ</code> to include gates that collectively implement the $U_f$ operator corresponding to the constant function $f(x)= 1$ for all $x$. The function should also call the <code>barrier()</code> method at the beginning and end of the function to block off $U_f$ gate portion of the circuit. Note there is a much simpler circuit implementation than the one given in the Lecture 15-16 Deutsch's Algorithm slides. In particular, think about how to implement the circuit using only X gate(s) and then generalize the method to work on $n$ qubits.\n",
    "\n",
    "\n",
    "* <code>make_balanced(circ, x_reg, y_reg)</code>: Again takes in a QuantumCircuit <code>circ</code> and QuantuamRegisters <code>x_reg</code> and <code>y_reg</code> as parameters, and then adds the quantum gates that implement the $U_f$ gate corresponding to the balanced function $f(x)= 0$ if $x$ has an even number of 1s; otherwise $f(x)= 1$ (this is a generalization of the XOR function at the end of the Lecture 17-19 Deutsch-Jozsa slides; think about how to extend this circuit to work for $n$-qubits). Again, the function should also call the <code>barrier()</code> method at the beginning and end.\n",
    "\n",
    "\n",
    "* <code>deutsch_jozsa(n, uf_maker)</code>: Takes in a positive int <code>n</code> (the number of qubits in the $x$ register) and a function <code>uf_maker</code>, the latter of which will either be the function <code>make_constant()</code> or <code>make_balanced()</code>. The function should then create and simulate a quantum circuit that implements the Deutsch-Jozsa algorithm, where the instructions for creating the $U_f$ gate is given by <code>uf_maker</code>. The function then returns a three tuple <code>(circ, answer, result)</code>, where <code>circ</code> is the QuantumCircuit object itself, <code>answer</code> is a string specifying the answer to the problem (either \"Constant\" or \"Balanced\"), and <code>result</code> is a Qiskit result object that is returned when calling <code>qis401.simulate_circuit()</code> on your circuit. \n",
    "\n",
    "\n",
    "Implement the above functions in a single cell. To generate your output, in subseqeunt cells call <code>deutsch_josza()</code> twice, passing in <code>make_constant()</code> for <code>uf_maker</code> for one call and  <code>make_balanced()</code> for the other (set $n = 5$ for both calls). For each call, write cell(s) that display both <code>circ</code> and <code>answer</code>. Then, call the function <code>plot_histogram()</code> on <code>result.get_counts()</code> to display the results of the simulation as histogram. (The measurement results for constant and balanced should be 00000 and 11111 for 100% of the simulations, respectively,). \n"
   ]
  },
  {
   "cell_type": "code",
   "execution_count": null,
   "metadata": {},
   "outputs": [],
   "source": [
    "# YOUR FUNCIONS GO HERE (DELETE THIS COMMENT)"
   ]
  },
  {
   "cell_type": "code",
   "execution_count": null,
   "metadata": {},
   "outputs": [],
   "source": [
    "# YOUR CODE GOES HERE (DELETE THIS COMMENT)"
   ]
  },
  {
   "cell_type": "code",
   "execution_count": null,
   "metadata": {},
   "outputs": [],
   "source": [
    "# YOUR CODE GOES HERE (DELETE THIS COMMENT)"
   ]
  },
  {
   "cell_type": "code",
   "execution_count": null,
   "metadata": {},
   "outputs": [],
   "source": [
    "# YOUR CODE GOES HERE (DELETE THIS COMMENT)"
   ]
  },
  {
   "cell_type": "markdown",
   "metadata": {},
   "source": [
    "## Part 2 [40 points] \n",
    "\n",
    "In the next two parts, you will now implement Deutsch-Jozsa using Numpy matrix operations. In this first part, you will write general purpose functions that create unitary matrices that correspond to gates in the algorithm. In particular, implement the following functions in the cell below. \n",
    "\n",
    "* <code>h_op(q, n):</code> Takes in ints <code>q</code> and <code>n</code>, and returns the $2^{n} \\times 2^{n}$ unitary matrix that applies a Hadamard gate to the qth qubit (0-indexed). \n",
    "\n",
    "\n",
    "* <code>x_op(q, n):</code> Takes in ints <code>n</code> and <code>q</code>, and returns the $2^{n} \\times 2^{n}$ unitary matrix that applies an X gate to the qth qubit (0-indexed). \n",
    "\n",
    "\n",
    "* <code>cx_op(q1, q2, n):</code> Takes in ints <code>q1</code>, <code>q2</code>, and <code>n</code>, and returns the $2^{n} \\times 2^{n}$ unitary matrix that applies a CX gate with <code>q1</code> as the control qubit and <code>q2</code> as the target qubit. You must compute your answer using the method we saw in class via permutation matrices (this will be the bulk of the work for this part; feel free to write additional functions to aid with the calculation). <b>Note that your code must manually calculate the permutation matrices from scratch!</b> (You will  receive little/no credit on this function if you use some kind of built-in function in Qiskit, Numpy, etc. that essentially does the calculation for you.)\n",
    "\n",
    "Note that for all functions above, $n$ refers to the number of qubits used in the circuit. (Keep in mind that in the context of the Deutsch-Jozsa problem, this value will be $n+1$.) "
   ]
  },
  {
   "cell_type": "code",
   "execution_count": 1,
   "metadata": {},
   "outputs": [],
   "source": [
    "# YOUR FUNCIONS GO HERE (DELETE THIS COMMENT)"
   ]
  },
  {
   "cell_type": "markdown",
   "metadata": {},
   "source": [
    "## Part 3 [20 points] \n",
    "\n",
    "You will now implement Deutsch-Jozsa using your API from Part 2. In particular, you should adapt the functions from Part 1 as follows. \n",
    "\n",
    "* <code>make_constant(n)</code>: Takes in an int <code>n</code> and returns the $2^{n+1} \\times 2^{n+1}$ unitary matrix $U_f$ operator represented as a Numpy array. As in Part 1, the function $f$ used to define the operator must be the constant function $f(x)= 1$ for all $x$. \n",
    "\n",
    "\n",
    "* <code>make_balanced(n)</code>: Also takes in an int <code>n</code> and returns the $2^{n+1} \\times 2^{n+1}$ unitary matrix for the $U_f$ operator represented as a Numpy array. Again as in Part 1, the function $f$ used to define the operator must be the balanced function $f(x)= 0$ if $x$ has an even number of 1s (otherwise $f(x)= 1$).\n",
    "\n",
    "\n",
    "* <code>deutsch_jozsa(n, uf_maker)</code>: Takes in a positive int <code>n</code> and a function <code>uf_maker</code>. As in Part 1,  the passed in function <code>uf_maker</code> will either be <code>make_constant()</code> or <code>make_balanced()</code>. The function now returns a two tuple <code>(answer, final_state)</code>, where <code>answer</code> is still a string specifying the answer to the problem, and <code>final_state</code> is a Statevector object representing the final quantum state of the circuit before measurement.\n",
    "\n",
    "Implement the above functions in a single cell. To generate your output, again call this version of the <code>deutsch_josza()</code> function twice in the cell(s) below, passing in <code>make_constant()</code> for <code>uf_maker</code> for one call and  <code>make_balanced()</code> for the other (again set $n = 5$ for both calls). In addition to printing the string <code>answer</code>, use the Statevector method <code>draw()</code> to display the final quantum state in bra-ket notation (the final states for these particular constant and balanced functions should be $-\\frac{\\sqrt{2}}{2}|000000\\rangle + \\frac{\\sqrt{2}}{2}|000001\\rangle$ and $\\frac{\\sqrt{2}}{2}|111110\\rangle - \\frac{\\sqrt{2}}{2}|111111\\rangle$, respectively).\n"
   ]
  },
  {
   "cell_type": "code",
   "execution_count": null,
   "metadata": {},
   "outputs": [],
   "source": [
    "# YOUR FUNCIONS GO HERE (DELETE THIS COMMENT)"
   ]
  },
  {
   "cell_type": "code",
   "execution_count": null,
   "metadata": {},
   "outputs": [],
   "source": [
    "# YOUR CODE GOES HERE (DELETE THIS COMMENT)"
   ]
  },
  {
   "cell_type": "code",
   "execution_count": null,
   "metadata": {},
   "outputs": [],
   "source": [
    "# YOUR CODE GOES HERE (DELETE THIS COMMENT)"
   ]
  }
 ],
 "metadata": {
  "celltoolbar": "Create Assignment",
  "kernelspec": {
   "display_name": "Python 3",
   "language": "python",
   "name": "python3"
  },
  "language_info": {
   "codemirror_mode": {
    "name": "ipython",
    "version": 3
   },
   "file_extension": ".py",
   "mimetype": "text/x-python",
   "name": "python",
   "nbconvert_exporter": "python",
   "pygments_lexer": "ipython3",
   "version": "3.8.5"
  }
 },
 "nbformat": 4,
 "nbformat_minor": 2
}
