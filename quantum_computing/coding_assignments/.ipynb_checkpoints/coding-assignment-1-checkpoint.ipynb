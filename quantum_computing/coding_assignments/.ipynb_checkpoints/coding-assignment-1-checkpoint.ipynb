{
 "cells": [
  {
   "cell_type": "markdown",
   "metadata": {},
   "source": [
    "<b>Coding Assignment 1<br>\n",
    "CS 401: Quantum Computing <br>\n",
    "Dr. Kell, Spring 2023 </b>\n",
    "\n",
    "<b> Instructions </b> \n",
    "\n",
    "To complete the assignment, please fill in all coding cells as instructed below, and then submit the file on Notebowl once completed. Before you turn in your submission, make sure everything runs as expected. First, restart the kernel (in the menubar, select Kernel → Restart) and then run all cells (in the menubar, select Cell → Run All). Make sure you fill in any place that says YOUR CODE GOES HERE or YOUR TESTS GO HERE.\n",
    "    \n",
    "<b> Constraints on references and collaborations</b>\n",
    "    \n",
    " <item> <i> You may:</i> Reference any chapter from the course textbooks or the Wikipedia links provided in the instructions. You are permitted to collaborate with others in the class in groups of 2-3, but these collaborations should be solely conceptual (i.e., clarifying the problem, brainstorming algorithms, etc.).\n",
    "     \n",
    " <item> <i> You may not</i>: Look at coded-up implementations (in Python or any other language). You may not share code or work with others when writing your code.\n",
    "    \n",
    " \n",
    "<b> Finally: be sure to use proper coding style for all your solutions!</b> For example, you should write docstrings for all functions, include useful in-line comments explaining how your code works, write clean code with readable variable names, etc.. You will lose points if you write sloppy code with poor style (e.g., not writing docstrings for any of your functions). \n",
    "    \n",
    "Best of luck!\n"
   ]
  },
  {
   "cell_type": "code",
   "execution_count": null,
   "metadata": {},
   "outputs": [],
   "source": [
    "# Specify your name below\n",
    "NAME = \"Your Name\""
   ]
  },
  {
   "cell_type": "markdown",
   "metadata": {},
   "source": [
    "## Problem 1 [10 points] \n",
    "Write a function called <code>multiply(A, B)</code> that takes in two matrices and returns their product, where each matrix is represented as a 2D list. You may assume <code>A</code> and <code>B</code> can in fact be multiplied, i.e., the number of columns of <code>A</code> equals the number of rows in <code>B</code>. Refer to Chapter 2.5 in DPV or [Wikipedia](https://en.wikipedia.org/wiki/Matrix_multiplication) if you forget how matrix multiplication works. \n",
    "\n",
    "\n",
    "For example, if <code>A = [[1, 2], [3, 4]]</code> and <code>B = [[1, 0, 1], [0, 1, 1]]</code>, then your function should return the matrix <code>[[1, 2, 3], [3, 4, 7]]</code>.  \n",
    "\n",
    "<b>Extra Credit [1 point]:</b> Write a function <code>efficient_multiply(A, B)</code> that implements the $O(n^{2.81})$-time algorithm given in DPV Chapter 2.5 that works for $n \\times n$ square matrices <code>A</code> and <code>B</code>.\n"
   ]
  },
  {
   "cell_type": "code",
   "execution_count": null,
   "metadata": {
    "nbgrader": {
     "grade": false,
     "grade_id": "cell-20b4613ee391831a",
     "locked": false,
     "schema_version": 1,
     "solution": true
    }
   },
   "outputs": [],
   "source": [
    "# YOUR CODE GOES HERE"
   ]
  },
  {
   "cell_type": "markdown",
   "metadata": {
    "collapsed": true,
    "nbgrader": {
     "grade": true,
     "grade_id": "cell-82f740dc2e34d9f0",
     "locked": true,
     "points": 2,
     "schema_version": 1,
     "solution": false
    }
   },
   "source": [
    "### Tests for Problem 1\n",
    "Write at least five test cases for your <code>multiply(A, B)</code> function using assert statements. Aim to pick a collection of test cases that would convince someone who can't see your implementation that your function is indeed correct. If you implemented <code>efficient_multiply(A, B)</code>, write tests for this function, as well. "
   ]
  },
  {
   "cell_type": "code",
   "execution_count": null,
   "metadata": {},
   "outputs": [],
   "source": [
    "# YOUR TESTS GO HERE"
   ]
  },
  {
   "cell_type": "markdown",
   "metadata": {},
   "source": [
    "## Problem 2 [5 points]\n",
    "Write a function called <code>transpose(A)</code> that returns the <i>transpose</i> of matrix <code>A</code> represented as a 2D list. Intuitively, the transpose of a matrix $A$ (denoted $A^T$) is one where the rows and columns of $A$ have been swapped. In particular, if $A$ is an $m\\times n$ matrix, then $A^T$ is an $n\\times m$ matrix such that if $a$ is the entry in $i$th row and $j$th column of $A$, then $a$ is the entry in the $j$th row and $i$th column of $A^T$.  Refer to [Wikipedia](https://en.wikipedia.org/wiki/Transpose) if you are unfamiliar with matrix transposes. \n",
    "\n",
    "For example, if <code>A = [[1, 2, 3], [4, 5, 6]]</code>, then <code>transpose(A)</code> function should return <code> [[1, 4], [2, 5], [3, 6]].</code>\n"
   ]
  },
  {
   "cell_type": "code",
   "execution_count": null,
   "metadata": {},
   "outputs": [],
   "source": [
    "# YOUR CODE GOES HERE"
   ]
  },
  {
   "cell_type": "markdown",
   "metadata": {},
   "source": [
    "### Tests for Problem 2\n",
    "Write at least five test cases for <code>transpose(A)</code> using assert statements. Aim to pick a collection of test cases that would convince someone who can't see your implementation that your function is indeed correct. "
   ]
  },
  {
   "cell_type": "code",
   "execution_count": null,
   "metadata": {},
   "outputs": [],
   "source": [
    "# YOUR TESTS GO HERE"
   ]
  },
  {
   "cell_type": "markdown",
   "metadata": {},
   "source": [
    "## Problem 3 [10 points] \n",
    "Write a function called <code>inplace_square_transpose(A)</code> that transposes an $n\\times n$ matrix <i>in-place</i>. Your function should not return anything and upon termination <code>A</code> now equals its transpose. \n",
    "\n",
    "<i>Your function must use $O(1)$ space</i>; you will receive little credit otherwise (since this means you can just use your implementation from Problem 2). For example, you may not allocate space for a temporary $n\\times n$ matrix in which you store its transpose and then copy the values back into <code>A</code>. \n",
    "    \n",
    "<b>Extra Credit [1 point]</b>: Write an additional function <code>inplace_transpose(A)</code> that transposes <code>A</code> in-place that works for general $m\\times n$ matrices. You may use one of the methods specified in the [in-place matrix transpose Wikipedia page](https://en.wikipedia.org/wiki/In-place_matrix_transposition).\n",
    " "
   ]
  },
  {
   "cell_type": "code",
   "execution_count": null,
   "metadata": {},
   "outputs": [],
   "source": [
    "# YOUR CODE GOES HERE"
   ]
  },
  {
   "cell_type": "markdown",
   "metadata": {},
   "source": [
    "### Tests for Problem 3\n",
    "Write at least five test cases for <code>inplace_square_transpose(A)</code> using assert statements. Aim to pick a collection of test cases that would convince someone who can't see your implementation that your function is indeed correct. If you implemented <code>inplace_transpose(A)</code>, write tests for this function, as well."
   ]
  },
  {
   "cell_type": "code",
   "execution_count": null,
   "metadata": {},
   "outputs": [],
   "source": [
    "# YOUR TESTS GO HERE"
   ]
  },
  {
   "cell_type": "markdown",
   "metadata": {},
   "source": [
    "## Problem 4 [10 points] \n",
    "\n",
    "Write a function called <code>add_binary(bin1, bin2)</code> that takes in two binary numbers represented as strings and returns <code>bin1 + bin2</code> in string format.  Furthermore, <i>your function must compute the sum without converting  the numbers to integers or using integer additions </i> (i.e., you should only use string method and conditional statements). Refer to [Wikipedia](https://en.wikipedia.org/wiki/Binary_number) if you need a refresher on binary numbers and how to add them.\n",
    "\n",
    "For example, if <code>bin1 = '1000110'</code> and <code>bin2 = '111101'</code>, your function should return the string <code>'10000011'</code>. You may assume that <code>bin1</code> and <code>bin2</code> start with the character <code>'1'</code>."
   ]
  },
  {
   "cell_type": "code",
   "execution_count": null,
   "metadata": {
    "nbgrader": {
     "grade": true,
     "grade_id": "cell-b807c70b3baa1249",
     "locked": false,
     "points": 2,
     "schema_version": 1,
     "solution": true
    }
   },
   "outputs": [],
   "source": [
    "# YOUR CODE GOES HERE"
   ]
  },
  {
   "cell_type": "markdown",
   "metadata": {},
   "source": [
    "### Tests for Problem 4 \n",
    "Write at least five test cases for <code>add_binary(bin1, bin2)</code> code using assert statements. Aim to pick a collection of test cases that would convince someone who can't see your implementation that your function is indeed correct. "
   ]
  },
  {
   "cell_type": "code",
   "execution_count": null,
   "metadata": {
    "nbgrader": {
     "grade": true,
     "grade_id": "cell-9d7442a6014e5a02",
     "locked": false,
     "points": 2,
     "schema_version": 1,
     "solution": true
    }
   },
   "outputs": [],
   "source": [
    "# YOUR TESTS GO HERE"
   ]
  },
  {
   "attachments": {
    "complex_pic.png": {
     "image/png": "[encoded data removed]"
    }
   },
   "cell_type": "markdown",
   "metadata": {},
   "source": [
    "## Problem 5 [15 points]\n",
    "\n",
    "In order to get practice working with complex numbers in Python, in this problem you will write code that displays the following picture by generating random complex numbers:\n",
    "\n",
    "![complex_pic.png](attachment:complex_pic.png)\n",
    "\n",
    "\n",
    "You must generate the above picture using the following method:\n",
    "\n",
    "* First write a function called <code>random_complex_list(count, min_r, max_r)</code> that returns a list of length <code>count</code> containing randomly generated complex numbers. The radius each of number should be chosen uniformly at random in the range <code>min_r</code> to <code>max_r</code>. The angle of each number should be chosen uniformly from $0$ to $2\\pi$. \n",
    " <br>\n",
    " \n",
    "*  Then, write a function called <code>complex_circle(count, min_r, max_r, color)</code> that plots the numbers from the list returned by <code>random_complex_list(count, min_r, max_r)</code> in the cartesian plane. Each point should have color <code>color</code> whose real and imaginary parts corresponds to its x-coordinate and y-coordinate, respectively. \n",
    "<br>\n",
    "\n",
    "* Finally, write a function <code>display_diagram()</code> that repeatedly calls <code>complex_circle()</code> in order to generate the above diagram. (Note to make all circles display in the same plot, you should not call <code>pyplot.show()</code> until the end of <code>display_diagram())</code>.\n",
    "\n",
    "You should utilize the Python modules: [random](https://docs.python.org/3/library/random.html), [cmath](https://docs.python.org/3/library/cmath.html), [pyploy](https://matplotlib.org/stable/tutorials/introductory/pyplot.html). Refer to DPV on page 63 for a refresher on how to express complex numbers using polar coordinates.\n"
   ]
  },
  {
   "cell_type": "code",
   "execution_count": null,
   "metadata": {},
   "outputs": [],
   "source": [
    "# YOUR CODE GOES HERE"
   ]
  }
 ],
 "metadata": {
  "celltoolbar": "Create Assignment",
  "kernelspec": {
   "display_name": "Python 3",
   "language": "python",
   "name": "python3"
  },
  "language_info": {
   "codemirror_mode": {
    "name": "ipython",
    "version": 3
   },
   "file_extension": ".py",
   "mimetype": "text/x-python",
   "name": "python",
   "nbconvert_exporter": "python",
   "pygments_lexer": "ipython3",
   "version": "3.7.3"
  }
 },
 "nbformat": 4,
 "nbformat_minor": 2
}
