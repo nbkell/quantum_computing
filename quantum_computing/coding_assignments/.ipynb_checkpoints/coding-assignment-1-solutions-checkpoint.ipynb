{
 "cells": [
  {
   "cell_type": "markdown",
   "metadata": {},
   "source": [
    "<b>Coding Assignment 1<br>\n",
    "CS 401, Quantum Computing <br>\n",
    "Dr. Kell, Spring 2023 <b>\n",
    "\n",
    "To complete the assignment, please fill in all coding cells as instructed below, and then submit the file on Notebowl once completed. Before you turn in your submission, make sure everything runs as expected. First, restart the kernel (in the menubar, select Kernel → Restart) and then run all cells (in the menubar, select Cell → Run All). Make sure you fill in any place that says YOUR CODE HERE or YOUR TESTS GO HERE.\n",
    "\n",
    "Best of luck! "
   ]
  },
  {
   "cell_type": "code",
   "execution_count": null,
   "metadata": {},
   "outputs": [],
   "source": [
    "# Specify your name below\n",
    "NAME = \"Your Name\""
   ]
  },
  {
   "cell_type": "markdown",
   "metadata": {},
   "source": [
    "## Problem 1 [10 points] \n",
    "Write a function called <code>mul "
   ]
  },
  {
   "cell_type": "code",
   "execution_count": null,
   "metadata": {
    "nbgrader": {
     "grade": false,
     "grade_id": "cell-20b4613ee391831a",
     "locked": false,
     "schema_version": 1,
     "solution": true
    }
   },
   "outputs": [],
   "source": [
    "def mean(L):\n",
    "    # YOUR CODE HERE"
   ]
  },
  {
   "cell_type": "markdown",
   "metadata": {
    "collapsed": true,
    "nbgrader": {
     "grade": true,
     "grade_id": "cell-82f740dc2e34d9f0",
     "locked": true,
     "points": 2,
     "schema_version": 1,
     "solution": false
    }
   },
   "source": [
    "### Tests for Problem 1\n",
    "Write at least five test cases for your code using assert statements as we did in class. Aim to pick a collection of test cases that would convince someone who can't see your implementation that your function is indeed correct. "
   ]
  },
  {
   "cell_type": "code",
   "execution_count": null,
   "metadata": {},
   "outputs": [],
   "source": [
    "# YOUR TESTS GO HERE"
   ]
  },
  {
   "cell_type": "markdown",
   "metadata": {},
   "source": [
    "## Problem 2 [10 points]\n",
    "Write a function called <code>maximum(L)</code> that takes a list of ints <code>L</code> as a parameter and returns the maximum of the numbers in the list. For example, <code>maximum([10, 20, 15])</code> should return *20*. Your function must have a full docstring comment block in order to receive full credit. You may not use any built-in functions that automatically compute the maximum of the list for you. \n"
   ]
  },
  {
   "cell_type": "code",
   "execution_count": null,
   "metadata": {},
   "outputs": [],
   "source": [
    "def maximum(L):\n",
    "    # YOUR CODE HERE"
   ]
  },
  {
   "cell_type": "markdown",
   "metadata": {},
   "source": [
    "### Tests for Problem 2\n",
    "Write at least five test cases for your code using assert statements as we did in class. Aim to pick a collection of test cases that would convince someone who can't see your implementation that your function is indeed correct. "
   ]
  },
  {
   "cell_type": "code",
   "execution_count": null,
   "metadata": {},
   "outputs": [],
   "source": [
    "# YOUR TESTS GO HERE"
   ]
  },
  {
   "cell_type": "markdown",
   "metadata": {},
   "source": [
    "## Problem 3 [10 points] \n",
    "Write a function called <code>areReverses(s1, s2)</code> which takes in two strings <code>s1</code> and <code>s2</code> and returns <code>True</code> if <code>s1</code> is the reverse of <code>s2</code> (otherwise, the function should return <code>False</code>). Your function must have a full docstring comment block in order to receive full credit. Your function should not use the built-in reverse function for strings, nor should it reverse either string via slicing (in other words, solve the problem using a loop). "
   ]
  },
  {
   "cell_type": "code",
   "execution_count": null,
   "metadata": {},
   "outputs": [],
   "source": [
    "def areReverses(s1, s2):\n",
    "    # YOUR CODE GOES HERE"
   ]
  },
  {
   "cell_type": "markdown",
   "metadata": {},
   "source": [
    "### Tests for Problem 3\n",
    "Write at least five test cases for your code using assert statements as we did in class. Aim to pick a collection of test cases that would convince someone who can't see your implementation that your function is indeed correct. "
   ]
  },
  {
   "cell_type": "code",
   "execution_count": null,
   "metadata": {},
   "outputs": [],
   "source": [
    "# YOUR TESTS GO HERE"
   ]
  },
  {
   "cell_type": "markdown",
   "metadata": {},
   "source": [
    "## Problem 4 [10 points] \n",
    "Write a function called <code>duplicateString()</code> that takes in a string <code>s</code> as a parameter and returns the string where every character in <code>s</code> has been duplicated. For example, if <code>s = 'banana'</code>, then your function should return the string <code>'bbaannaannaa\"</code>. Your function must have a full docstring comment block in order to receive full credit.\n"
   ]
  },
  {
   "cell_type": "code",
   "execution_count": null,
   "metadata": {},
   "outputs": [],
   "source": [
    "def duplicateString(s):\n",
    "    # YOUR CODE GOES HERE"
   ]
  },
  {
   "cell_type": "markdown",
   "metadata": {},
   "source": [
    "### Tests for Problem 4\n",
    "Write at least five test cases for your code using assert statements as we did in class. Aim to pick a collection of test cases that would convince someone who can't see your implementation that your function is indeed correct. "
   ]
  },
  {
   "cell_type": "code",
   "execution_count": null,
   "metadata": {},
   "outputs": [],
   "source": [
    "# YOUR TESTS GO HERE"
   ]
  },
  {
   "cell_type": "markdown",
   "metadata": {},
   "source": [
    "##  Challenge Problem 1 [1 point Extra Credit]\n",
    "\n",
    "Write a function called <code>twoThreeFactorsOnly(x)</code> that takes in a positive integer <code>x</code> as a parameter and returns <code>True</code> if <code>x</code> can be expressed as a product of only repeated multiples of 2s and 3s. For example, for numbers such as 6, 12, and 24 the function should return <code>True</code>. Numbers such as 5, 7, and 30 should return <code>False</code>. (Note that 30 is divisible by both 2 and 3, but cannot be expressed as only a product of 2s and 3s)."
   ]
  },
  {
   "cell_type": "code",
   "execution_count": null,
   "metadata": {
    "nbgrader": {
     "grade": true,
     "grade_id": "cell-b807c70b3baa1249",
     "locked": false,
     "points": 2,
     "schema_version": 1,
     "solution": true
    }
   },
   "outputs": [],
   "source": [
    "def TwoThreeFactorsOnly(x):\n",
    "    # YOUR CODE GOES HERE"
   ]
  },
  {
   "cell_type": "markdown",
   "metadata": {},
   "source": [
    "### Tests for Question 5\n",
    "Write at least five test cases for your code using assert statements as we did in class. Aim to pick a collection of test cases that would convince someone who can't see your implementation that your function is indeed correct. "
   ]
  },
  {
   "cell_type": "code",
   "execution_count": null,
   "metadata": {
    "nbgrader": {
     "grade": true,
     "grade_id": "cell-9d7442a6014e5a02",
     "locked": false,
     "points": 2,
     "schema_version": 1,
     "solution": true
    }
   },
   "outputs": [],
   "source": [
    "# YOUR TESTS GO HERE"
   ]
  },
  {
   "cell_type": "markdown",
   "metadata": {},
   "source": [
    "## Challenge Problem 2 [1 point Extra Credit]\n",
    "For two sorted lists of integers <code>L1</code> and <code>L2</code>, both of length <code>n</code>, a *merge procedure* takes the two sorted lists and combines them into a single sorted lists containing all the integers from both lists (now\n",
    "containing <code>2n</code> integers).\n",
    "    \n",
    "For example, if <code>L1 = [1, 2, 8, 10, 12]</code> and <code>L2 = [4, 5, 7, 11, 13]</code>, the combined sorted list produced by the merge procedure would be: <code>[1, 2, 4, 5, 7, 8, 10, 11, 12, 13]</code>.\n",
    "    \n",
    "Write a function called <code>merge(L1, L2)</code> that takes in two lists <code>L1</code> and <code>L2</code> as parameters, and returns the combined sorted\n",
    "list produced by a merge procedure. You may not use the built-in sort function that automatically sorts the lists for you. "
   ]
  },
  {
   "cell_type": "code",
   "execution_count": null,
   "metadata": {},
   "outputs": [],
   "source": [
    "def merge(L1, L2):\n",
    "    # YOUR CODE GOES HERE "
   ]
  },
  {
   "cell_type": "markdown",
   "metadata": {},
   "source": [
    "### Tests for Problem 6\n",
    "Write at least five test cases for your code using assert statements as we did in class. Aim to pick a collection of test cases that would convince someone who can't see your implementation that your function is indeed correct."
   ]
  },
  {
   "cell_type": "code",
   "execution_count": null,
   "metadata": {},
   "outputs": [],
   "source": [
    "# YOUR TESTS GO HERE"
   ]
  }
 ],
 "metadata": {
  "celltoolbar": "Create Assignment",
  "kernelspec": {
   "display_name": "Python 3",
   "language": "python",
   "name": "python3"
  },
  "language_info": {
   "codemirror_mode": {
    "name": "ipython",
    "version": 3
   },
   "file_extension": ".py",
   "mimetype": "text/x-python",
   "name": "python",
   "nbconvert_exporter": "python",
   "pygments_lexer": "ipython3",
   "version": "3.7.3"
  }
 },
 "nbformat": 4,
 "nbformat_minor": 2
}
