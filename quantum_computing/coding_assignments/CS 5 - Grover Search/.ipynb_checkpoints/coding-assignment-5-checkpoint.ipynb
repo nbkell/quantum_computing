{
 "cells": [
  {
   "cell_type": "markdown",
   "id": "6cb8980c",
   "metadata": {},
   "source": [
    "<b>Coding Assignment 5: Part 1<br>\n",
    "CS 401: Quantum Computing <br>\n",
    "Dr. Kell, Spring 2023 </b>\n",
    "\n",
    "<b> Instructions </b> \n",
    "\n",
    "To complete the assignment, please fill in all coding cells as instructed below, and then submit the file on Notebowl once completed. Before you turn in your submission, make sure everything runs as expected. First, restart the kernel (in the menubar, select Kernel → Restart) and then run all cells (in the menubar, select Cell → Run All). Make sure you fill in any place that says YOUR CODE GOES HERE.\n",
    "    \n",
    "<b> Constraints on references and collaborations</b>\n",
    "\n",
    "<em>This is a Partner Assignment:</em> You will work on this assignment with a partner (submit one notebook file per group). \n",
    "    \n",
    " <item> <i> You and your partner may:</i> Reference any chapter from the course textbook, references, and relevant Wikipedia pages. You are permitted to discuss high-level ideas with other groups (but please do so sparringly). \n",
    "     \n",
    " <item> <i> You may not</i>: \n",
    "     \n",
    "* You may not share code or work with other groups when writing your code.\n",
    "<br> \n",
    "     \n",
    "* Reference Qiskit's Grover's Algorithm guide.\n",
    "    \n",
    "<b> Finally: Be sure to use proper coding style for all your solutions!</b> For example, you should write docstrings for all functions, include useful in-line comments explaining how your code works, write clean code with readable variable names, etc.. You will lose points if you write sloppy code with poor style (e.g., not writing docstrings for any of your functions). \n",
    "    \n",
    "Best of luck!"
   ]
  },
  {
   "cell_type": "code",
   "execution_count": 1,
   "id": "8dd70d92",
   "metadata": {},
   "outputs": [],
   "source": [
    "import numpy as np\n",
    "import matplotlib.pyplot as plt\n",
    "import random, cmath, math\n",
    "from qiskit import QuantumCircuit, QuantumRegister, ClassicalRegister, assemble, Aer\n",
    "from qiskit.quantum_info import Statevector\n",
    "from qiskit.visualization import array_to_latex, state_visualization\n",
    "from qiskit.visualization import plot_bloch_multivector, plot_histogram, plot_state_city \n",
    "import qis401"
   ]
  },
  {
   "cell_type": "markdown",
   "id": "cff5c3ef",
   "metadata": {},
   "source": [
    "## Part 1 [35 points]\n",
    "\n",
    "Your overall goal in this assignment will be to implement a 3-SAT solver using Grover's algorithm. In this first part, you will adapt the quantum 3-SAT verifier we wrote in the <code>3-29_3SAT_verifier.ipynb</code> to now be the oracle gate you'll use in Grover's algorithm.   \n",
    "\n",
    "In particular, first write the function <code>initialize_3sat_grovers_circuit(n, m)</code> that takes in two ints <code>n</code> and <code>m</code> and then constructs a circuit for an instance with <code>n</code> variables and <code>m</code> clauses. The function then returns a six tuple <code>(circ, x_reg, clause_ancilla, clause_outputs, y_reg, x_meas)</code> containing the overall QuantumCircuit <code>circ</code> as well as the registers in the circuit. These are essentially the same QuantumRegisters used in verifier in <code>3-29_3SAT_verifier.ipynb</code> along with a ClassicalRegister <code>x_meas</code> that will store the final measurement result of Grover's algorithm. \n",
    "\n",
    "Note that circuit should initialize all ancilla qubits to state $|1\\rangle$ and should put the <code>y_reg</code> qubit in state $|-\\rangle$. (In the context of Grover's algorithm, <code>y_reg</code> is now the extra qubit used to create the action $|x\\rangle \\rightarrow (-1)^{f(x)}|x\\rangle$ when applying the oracle.)\n",
    "\n",
    "Next, write a function <code>add_3sat_oracle(circ, clauses, x_reg, clause_ancilla, clause_outputs, y_reg)</code> that takes in the six tuple return by <code>initialize_3sat_grovers_circuit(n, m)</code> and adds the oracle gate to <code>circ</code>, where the oracle assumes <code>x_reg</code> is state $|0\\rangle$ and the ancilla registers are in state $|1\\rangle$ at the outset (if it were to be executed classically). \n",
    "\n",
    "You can use a similar approach/code to the verifier in <code>3-29_3SAT_verifier.ipynb</code>. However, since the oracle will be applied multiple times in Grover's algorithm, one key difference is that all registers (except for <code>y_reg</code>) <i>need to be reset to their original state at the end of the circuit</i>. In particular, <code>x_reg</code> should be reset to state $|0\\rangle$ and the ancillas should be reset to state $|1\\rangle$. You will need to think carefully about how this can be accomplished using only quantum gates."
   ]
  },
  {
   "cell_type": "code",
   "execution_count": 27,
   "id": "4432a806",
   "metadata": {},
   "outputs": [],
   "source": [
    "# YOUR FUNCTIONS GO HERE (DELETE THIS COMMENT)"
   ]
  },
  {
   "cell_type": "markdown",
   "id": "6e17dd4d",
   "metadata": {},
   "source": [
    "## Part 2 [15 points]\n",
    "\n",
    "You will now complete the implementation of Grover's algorithm. In particular, write the following functions: \n",
    "\n",
    "* <code>add_diffuser(circ, vars_reg, n)</code>: takes in overall QuantumCircuit object <code>circ</code>, the QuantumRegister <code>x_reg,</code>, and the number of variables <code>n</code>. The function then adds gates to <code>circ</code> that apply diffusion operation done in the second half of each Grover iteration. Note that likely the easiest way to create the \"phase shift\" gate is to use the QuantumCircuit method <code>unitary(matrix, reg)</code> that takes in a 2D-list (or numpy matrix) <code>matrix</code> and a QuantumRegister <code>reg</code> and adds a quantum gate to the circuit that applies the operation given by <code>matrix</code> to register <code>reg</code>.\n",
    "\n",
    "\n",
    "* <code>three_sat_grovers(clauses, n, trials)</code>: top-level function that repeatedly solves a 3-SAT instance using Grover's algorithm (using the <code>add_diffuser()</code> function and the functions written in Part 1). <code>clauses</code> is a list containing tuples specifying the instance in DIMACS notation, <code>n</code> is the number of variables in the instance, and <code>trials</code> is the number of times the algorithm is executed. The function then returns a dictionary that maps <code>x_meas</code> outcomes to their frequencies (you can obtain this dictionary using the <code>get_counts()</code> method on the result object returned by the circuit simulation). \n"
   ]
  },
  {
   "cell_type": "code",
   "execution_count": 28,
   "id": "62ab6450",
   "metadata": {},
   "outputs": [],
   "source": [
    "# YOUR FUNCTIONS GO HERE (DELETE THIS COMMENT)"
   ]
  },
  {
   "cell_type": "markdown",
   "id": "6fd01987",
   "metadata": {},
   "source": [
    "### Testing Your Solution\n",
    "\n",
    "You can use the below function <code>plot_unique_3sat_grovers(trials)</code> to test your implementation. The function runs your circuit on the eight possible 3-variable 3-SAT instances (with unique solutions) for <code>trials</code> number of times each. The function then plots the output frequencies for each instance. For 100 trials, your output should look similar to following:\n",
    "\n",
    "<div align=\"center\">\n",
    "<img src=\"3sat-bar-graph-test.png\" width=\"700\">\n",
    "</div>"
   ]
  },
  {
   "cell_type": "markdown",
   "id": "ff758544",
   "metadata": {},
   "source": [
    "You should also write a few additional tests to double check that your implementation is correct. "
   ]
  },
  {
   "cell_type": "code",
   "execution_count": 29,
   "id": "c9a0b809",
   "metadata": {},
   "outputs": [],
   "source": [
    "# 3-variable 3-SAT instances tested by plot_unique_3sat_grovers()\n",
    "_instances = [\n",
    "    [(-1, -2, -3), (-1, -2, 3), (-1, 2, -3), (-1, 2, 3), (1, -2, -3), (1, -2, 3), (1, 2, -3)],\n",
    "    [(-1, -2, -3), (-1, -2, 3), (-1, 2, -3), (-1, 2, 3), (1, -2, -3), (1, -2, 3), (1, 2, 3)],\n",
    "    [(-1, -2, -3), (-1, -2, 3), (-1, 2, -3), (-1, 2, 3), (1, -2, -3), (1, 2, -3), (1, 2, 3)],\n",
    "    [(-1, -2, -3), (-1, -2, 3), (-1, 2, -3), (-1, 2, 3), (1, -2, 3), (1, 2, -3), (1, 2, 3)],\n",
    "    [(-1, -2, -3), (-1, -2, 3), (-1, 2, -3), (1, -2, -3), (1, -2, 3), (1, 2, -3), (1, 2, 3)],\n",
    "    [(-1, -2, -3), (-1, -2, 3), (-1, 2, 3), (1, -2, -3), (1, -2, 3), (1, 2, -3), (1, 2, 3)],\n",
    "    [(-1, -2, -3), (-1, 2, -3), (-1, 2, 3), (1, -2, -3), (1, -2, 3), (1, 2, -3), (1, 2, 3)],\n",
    "    [(-1, -2, 3), (-1, 2, -3), (-1, 2, 3), (1, -2, -3), (1, -2, 3), (1, 2, -3), (1, 2, 3)],\n",
    "]\n",
    "\n",
    "def plot_unique_3sat_grovers(trials):\n",
    "    ''' \n",
    "    Tests Grover's algorithm for each of the possible 3-variable \n",
    "    3-SAT instances with unique solutions and plots the results. \n",
    "    \n",
    "    Args: int trials (number of trials per instance)\n",
    "    @return: plots a bar graph for output frequencies for each instance\n",
    "    '''\n",
    "    \n",
    "    # execute grovers on each instance and keep track output dictionaries\n",
    "    # (there will be 8 total plots, displayed in 2x4 grid)\n",
    "    n, num_rows, num_cols = 3, 2, 4\n",
    "    output_dicts = [[None for col in range(num_cols)] for row in range(num_rows)]\n",
    "    for index in range(len(_instances)):\n",
    "        out_dict = three_sat_grovers(_instances[index], n, trials)\n",
    "        row, col = index//num_cols, index % num_cols\n",
    "        output_dicts[row][col] = out_dict \n",
    "        \n",
    "    # use dictionaries to display plots\n",
    "    width, height = 15, 5\n",
    "    outputs = ['000', '001', '010', '011', '100', '101', '110', '111']\n",
    "    fig, ax = plt.subplots(num_rows, num_cols)\n",
    "    fig.set_figwidth(width) \n",
    "    fig.set_figheight(height)\n",
    "    for row in range(num_rows):\n",
    "        for col in range(num_cols):\n",
    "            cur_dict = output_dicts[row][col] \n",
    "            counts = [cur_dict[out[::-1]] if out[::-1] in cur_dict else 0 for out in outputs] \n",
    "            ax[row, col].set_xticks(range(8))\n",
    "            ax[row, col].set_xticklabels(outputs, rotation = 300, fontsize = 'small' )\n",
    "            ax[row, col].bar(outputs, counts)"
   ]
  },
  {
   "cell_type": "code",
   "execution_count": 30,
   "id": "5beedc4c",
   "metadata": {},
   "outputs": [
    {
     "data": {
      "image/png": "[encoded data removed]",
      "text/plain": [
       "<Figure size 1080x360 with 8 Axes>"
      ]
     },
     "metadata": {
      "needs_background": "light"
     },
     "output_type": "display_data"
    }
   ],
   "source": [
    "plot_unique_3sat_grovers(100)"
   ]
  },
  {
   "cell_type": "code",
   "execution_count": null,
   "id": "bb3bdfa4",
   "metadata": {},
   "outputs": [],
   "source": [
    "# ADDITIONAL TESTS GO HERE (DELETE THIS COMMENT)"
   ]
  }
 ],
 "metadata": {
  "kernelspec": {
   "display_name": "Python 3",
   "language": "python",
   "name": "python3"
  },
  "language_info": {
   "codemirror_mode": {
    "name": "ipython",
    "version": 3
   },
   "file_extension": ".py",
   "mimetype": "text/x-python",
   "name": "python",
   "nbconvert_exporter": "python",
   "pygments_lexer": "ipython3",
   "version": "3.7.3"
  }
 },
 "nbformat": 4,
 "nbformat_minor": 5
}
