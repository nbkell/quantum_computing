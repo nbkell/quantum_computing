{
 "cells": [
  {
   "cell_type": "code",
   "execution_count": 1,
   "metadata": {},
   "outputs": [],
   "source": [
    "import numpy as np\n",
    "import matplotlib.pyplot as plt\n",
    "import random, cmath\n",
    "from qiskit import QuantumCircuit, QuantumRegister, ClassicalRegister, assemble, Aer\n",
    "from qiskit.quantum_info import Statevector\n",
    "from qiskit.visualization import array_to_latex, state_visualization\n",
    "from qiskit.visualization import plot_bloch_multivector, plot_histogram, plot_state_city \n",
    "import qis401"
   ]
  },
  {
   "cell_type": "markdown",
   "metadata": {},
   "source": [
    "### Toffoli Gates in Qiskit \n",
    "\n",
    "Toffoli gates are added to a circuit using the <code>ccx(control1, control2, target)</code> method."
   ]
  },
  {
   "cell_type": "code",
   "execution_count": 8,
   "metadata": {},
   "outputs": [
    {
     "data": {
      "image/png": "[encoded data removed]",
      "text/plain": [
       "<Figure size 212.85x204.68 with 1 Axes>"
      ]
     },
     "execution_count": 8,
     "metadata": {},
     "output_type": "execute_result"
    }
   ],
   "source": [
    "control1 = QuantumRegister(1, \"control 1\")\n",
    "control2 = QuantumRegister(1, \"control 2\")\n",
    "target = QuantumRegister(1, \"target\")\n",
    "circ = QuantumCircuit(control1, control2, target)\n",
    "circ.ccx(control1, control2, target)\n",
    "circ.draw('mpl')"
   ]
  },
  {
   "cell_type": "markdown",
   "metadata": {},
   "source": [
    "### NOT, AND, OR using Quantum Toffolis"
   ]
  },
  {
   "cell_type": "markdown",
   "metadata": {},
   "source": [
    "First observe that since a NOT gate only takes in a single input, this translates to using just a standard CX gate. The function <code>quantum_not(circ, a, result)</code> adds this circuit the QuantumCircuit parameter <code>circ</code>."
   ]
  },
  {
   "cell_type": "code",
   "execution_count": null,
   "metadata": {},
   "outputs": [],
   "source": [
    "def quantum_not(circ, a, result):\n",
    "    ''' \n",
    "    Adds a quantum NOT gate that to the QuantumCircuit circ\n",
    "    that NOTs quibit a and stores the result on qubit result.\n",
    "    '''\n",
    "    circ.cx(a, result)"
   ]
  },
  {
   "cell_type": "markdown",
   "metadata": {},
   "source": [
    "Keep in mind a more direct way of computing NOT on a quantum circuit is to just use an X gate. However the purpose of this exercise is to see how Toffolis are universal (and to give you practice working with ancilla qubits). Therefore, we will only utilize CX and CCX gates. \n",
    "\n",
    "Next, we have functions that implement AND and OR gates using Toffolis:"
   ]
  },
  {
   "cell_type": "code",
   "execution_count": null,
   "metadata": {},
   "outputs": [],
   "source": [
    "def quantum_and(circ, a, b, nand_result, result):\n",
    "    ''' \n",
    "    Adds a quantum AND gate that to the QuantumCircuit circ.\n",
    "    @return the final output is stored on the qubit result. \n",
    "    We also pass in an extra \"ancilla\" qubit nand_result that is used to store the \n",
    "    answer of the first NAND before passsing it along to the quantum_not() function. \n",
    "    Also note that we assume the nand_result ancilla is set to state |1> at the outset. \n",
    "    '''\n",
    "    circ.ccx(a, b, nand_result) \n",
    "    quantum_not(circ, nand_result, result)\n",
    "    \n",
    "def quantum_or(circ, a, b, a_not_result, b_not_result, result):\n",
    "    '''\n",
    "    Implements an OR gate using a similar approach to quantum_and().\n",
    "    We now need two ancilla qubits to store the result of both NOTs.\n",
    "    '''\n",
    "    quantum_not(circ, a, a_not_result)\n",
    "    quantum_not(circ, b, b_not_result)\n",
    "    circ.ccx(a_not_result, b_not_result, result)"
   ]
  },
  {
   "cell_type": "markdown",
   "metadata": {},
   "source": [
    "### Practice Exercise: Quantum Half Adder\n",
    "\n",
    "#### Part 1: Implement Quantum XOR\n",
    "Using a similar approach to the functions <code>quantum_not()</code>, <code>quantum_and()</code>, and <code>quantum_or()</code>, write a function called <code>quantum_xor()</code> that adds the quantum version of an XOR gate to a QuantumCircuit object. \n",
    "\n",
    "As in the functions above, the first parameter should be the QuantumCircuit itself. The next two parameters correspond to the input qubits <code>a</code> and <code>b</code>, and then the last qubit should store the result. You will need to decide which/how many ancilla qubits to include as parameters in order to correctly “link up” the circuit.  "
   ]
  },
  {
   "cell_type": "code",
   "execution_count": 9,
   "metadata": {},
   "outputs": [],
   "source": [
    "# YOUR IMPLEMENTATION OF quantum_xor() GOES HERE (DELETE THIS COMMENT)"
   ]
  },
  {
   "cell_type": "markdown",
   "metadata": {},
   "source": [
    "#### Part 2: Implement Quantum Half Adder \n",
    "\n",
    "Using the gate functions above, write a function called <code>make_adder_circ(a, b)</code> that takes in two ints <code>a</code> and <code>b</code> that are either 0 or 1, and then returns a QuantumCircuit object implementing a half adder circuit that outputs the result of <code>a</code>+<code>b</code>.\n",
    "\n",
    "Note that you are allowed to use as many qubits as you like in the circuit, but the last two qubits should store the sum and carry bits, respectively (e.g., if the sum and carry should be 1 and 0, respectively, then the 2nd to last qubit should be in state $|1\\rangle$ and the last qubit should be in state $|0\\rangle$). This is the only assumption made by the function <code>quantum_half_adder(a, b)</code>, which can be used to test your implementation. "
   ]
  },
  {
   "cell_type": "code",
   "execution_count": null,
   "metadata": {},
   "outputs": [],
   "source": [
    "def make_adder_circ(a, b):\n",
    "    '''\n",
    "    Creates a quantum circuit that computes the result of adding two bits \n",
    "    \n",
    "    Args:\n",
    "        Two ints a and b (either 0 or 1)\n",
    "    Returns: \n",
    "        QuantumCircuit object that implementing a half adder\n",
    "        The 2nd to to last and last qubits store the sum and carry results. \n",
    "    '''\n",
    "    \n",
    "    # YOUR IMPLEMENTATION GOES HERE (DELETE THIS COMMENT)\n",
    "    \n",
    "def quantum_half_adder(a, b):\n",
    "    ''' \n",
    "    Compute the sum of two bits\n",
    "    \n",
    "    Args: ints a and b (either 0 or 1)\n",
    "    Returns: tuple (sum, carry)\n",
    "    '''\n",
    "    circ = make_adder_circ(a, b)\n",
    "    result = qis401.simulate_circuit(circ, 1)\n",
    "    output = list(result.get_counts().keys())[0]\n",
    "    return (int(output[1]), int(output[0]))"
   ]
  },
  {
   "cell_type": "code",
   "execution_count": null,
   "metadata": {},
   "outputs": [],
   "source": [
    "assert quantum_half_adder(0, 0) == (0, 0)\n",
    "assert quantum_half_adder(0, 1) == (1, 0)\n",
    "assert quantum_half_adder(1, 0) == (1, 0)\n",
    "assert quantum_half_adder(1, 1) == (0, 1)"
   ]
  }
 ],
 "metadata": {
  "kernelspec": {
   "display_name": "Python 3",
   "language": "python",
   "name": "python3"
  },
  "language_info": {
   "codemirror_mode": {
    "name": "ipython",
    "version": 3
   },
   "file_extension": ".py",
   "mimetype": "text/x-python",
   "name": "python",
   "nbconvert_exporter": "python",
   "pygments_lexer": "ipython3",
   "version": "3.8.5"
  }
 },
 "nbformat": 4,
 "nbformat_minor": 5
}
