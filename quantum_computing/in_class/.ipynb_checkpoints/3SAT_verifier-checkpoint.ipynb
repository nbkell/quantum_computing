{
 "cells": [
  {
   "cell_type": "markdown",
   "id": "194eb39b",
   "metadata": {},
   "source": [
    "### Implementing a 3-SAT Verifier on a Quantum Circuit\n",
    "\n",
    "In this coding activity, you will implement a verifier for a 3-SAT instance on a quantum circuit."
   ]
  },
  {
   "cell_type": "code",
   "execution_count": 1,
   "id": "b884c8b6",
   "metadata": {},
   "outputs": [],
   "source": [
    "import numpy as np\n",
    "import matplotlib.pyplot as plt\n",
    "import random, cmath\n",
    "from qiskit import QuantumCircuit, QuantumRegister, ClassicalRegister, assemble, Aer\n",
    "from qiskit.quantum_info import Statevector\n",
    "from qiskit.visualization import array_to_latex, state_visualization\n",
    "from qiskit.visualization import plot_bloch_multivector, plot_histogram, plot_state_city \n",
    "import qis401"
   ]
  },
  {
   "cell_type": "markdown",
   "id": "bc4227a4",
   "metadata": {},
   "source": [
    "### Part 1\n",
    "\n",
    "To begin, write a function <code>or_gate(circ, a, b, result)</code> that takes in a QuantumCircuit <code>circ</code> and three single-qubit QuantumRegisters <code>a, b</code> and <code>result</code> as parameters. The function should add quantum gates to <code>circ</code> that collectively perform an OR operation on qubits <code>a</code> and <code>b</code>, which is then stored on the qubit <code>result</code>. Also <b>(important!)</b>, qubits <code>a</code> and <code>b</code> should be restored to their original values @return. \n",
    "\n",
    "Assume that the ancilla <code>result</code> qubit is in state $|1\\rangle$ at the start of the function. As discussed in the previous lecture, you should implement NOT using an X gate (and therefore no additional ancilla registers need to be passed in). "
   ]
  },
  {
   "cell_type": "code",
   "execution_count": 2,
   "id": "dc00bead",
   "metadata": {},
   "outputs": [],
   "source": [
    "# YOUR CODE GOES HERE (DELETE THIS COMMENT)"
   ]
  },
  {
   "cell_type": "markdown",
   "id": "afa041b1",
   "metadata": {},
   "source": [
    "### Part 2\n",
    "\n",
    "Next, write a function <code>add_clause(circ, vars_reg, clause, c_index, clause_ancilla, clause_outputs)</code> that adds a subcircuit to the QuantumCircuit <code>circ</code> that evaluates a single clause. For a 3-SAT instance with $n$ variables and $m$ clauses, the specifications for the remaining parameters are as follows:\n",
    "\n",
    "* <code>vars_reg</code>: an $n$-qubit quantum register that throughout stores the values assigned to each Boolean variable. For example, if $x_1$ is to be <code>True</code> in the assignment, then <code>var_reg[0]</code> is in state $|1\\rangle$ prior to calling the function.\n",
    "\n",
    "\n",
    "* <code>clause</code>: a three-tuple that contains three positive or negative ints that indicate each of the 1-indexed literals in the clause, where negated values correspond to negative literals. For example, the clause $(x_1 \\vee x_2 \\vee \\overline{x_3})$ would be represented by the tuple $(1, 2, -3)$. (This is actually a standard SAT solver encoding known as DIMACS notation.) \n",
    "\n",
    "\n",
    "* <code>c_index:</code> The index of the clause in the overall formula (0-indexed). \n",
    "\n",
    "\n",
    "* <code>clause_ancillas</code> and <code>clause_outputs</code>: both $m$-qubit registers, where <code>clause_ancillas[c_index]</code> is the ancilla qubit that will be used to store the the result of ORing the first two literals in the clause, and <code>clause_outputs[c_index]</code> should then store the overall evaluation of the clause @return.  \n",
    "\n",
    "Note that like the <code>or_gate()</code> function from Part 1, the states of qubits in <code>var_reg</code> should be restored to their original value @return."
   ]
  },
  {
   "cell_type": "code",
   "execution_count": 3,
   "id": "e7074bd3",
   "metadata": {},
   "outputs": [],
   "source": [
    "# YOUR CODE GOES HERE (DELETE THIS COMMENT)"
   ]
  },
  {
   "cell_type": "markdown",
   "id": "3f5d926c",
   "metadata": {},
   "source": [
    "### Part 3\n",
    "\n",
    "Finally, now write a function <code>make_3sat_circuit(clauses, assignment)</code> that returns the overall quantum circuit that evaluates a 3-SAT formula for a given assignment.  In particular, <code>assignment</code> is a list of Booleans indicating how each (0-indexed) variable is set in the assignment. <code>clauses</code> is then a list of three tuples specifying each clause in DIMACS notation. \n",
    "\n",
    "A couple things to keep in mind:\n",
    "\n",
    "* Recall that both functions in Part 1 and 2 assume the ancilla qubits have already been set to state $|1\\rangle$ before calling the function. Therefore you will need to take care of this at this point in the solution. \n",
    "\n",
    "\n",
    "* To evaluate the overall formula (i.e., ANDing together the results if all clauses), you should use a <i>multi-CX</i> gate, which generalizes CX and Tofolli gates to an arbitrary number of control qubits. For example, we can create a multi-CX gate with three controls using the <code>mtc()</code> method as follows."
   ]
  },
  {
   "cell_type": "code",
   "execution_count": 14,
   "id": "01726df5",
   "metadata": {},
   "outputs": [
    {
     "data": {
      "image/png": "[encoded data removed]",
      "text/plain": [
       "<Figure size 206.218x264.88 with 1 Axes>"
      ]
     },
     "execution_count": 14,
     "metadata": {},
     "output_type": "execute_result"
    }
   ],
   "source": [
    "# multi-CX example\n",
    "controls = QuantumRegister(3, \"control\")\n",
    "target = QuantumRegister(1, \"target\")\n",
    "circ = QuantumCircuit(controls, target)\n",
    "circ.mct(controls, target)\n",
    "circ.draw('mpl')"
   ]
  },
  {
   "cell_type": "code",
   "execution_count": 4,
   "id": "56862506",
   "metadata": {},
   "outputs": [],
   "source": [
    "# YOUR CODE GOES HERE (DELETE THIS COMMENT)"
   ]
  },
  {
   "cell_type": "markdown",
   "id": "ebe0626e",
   "metadata": {},
   "source": [
    "### Testing Your Solution\n",
    "\n",
    "The cells below can be used to test your solution. "
   ]
  },
  {
   "cell_type": "code",
   "execution_count": 10,
   "id": "11710f34",
   "metadata": {},
   "outputs": [],
   "source": [
    "def three_sat_test(clauses, assignment):\n",
    "    ''' \n",
    "    Evaluates a 3-SAT instance in CNF with n variables and m clauses\n",
    "    for a fixed assignment of the Boolean variables in the formula. \n",
    "    \n",
    "    Args\n",
    "        clauses: a list of 3-tuples specifying the formula in DIMACS notation\n",
    "        assignment: a list of Booleans (assignment[0] = True -> x_1 = True)\n",
    "    Returns: \n",
    "        True if the formulas evalutes to True; otherwise returns False. \n",
    "    '''\n",
    "    circ = make_3sat_circuit(clauses, assignment)\n",
    "    result = qis401.simulate_circuit(circ, 1)\n",
    "    output = list(result.get_counts().keys())[0]\n",
    "    return output[0] == '1'"
   ]
  },
  {
   "cell_type": "code",
   "execution_count": 9,
   "id": "2b696320",
   "metadata": {},
   "outputs": [],
   "source": [
    "clauses1 = [(1, 2, -3), (1, -3, -4)]   # instance (x1 or x2 or ~x3) and (x1 or ~x3 or ~x4)\n",
    "assignment1 = [True, True, False, False]\n",
    "assignment2 = [False, False, False, True]\n",
    "assignment3 = [False, False, True, True]\n",
    "\n",
    "assert three_sat_test(clauses1, assignment1) == True\n",
    "assert three_sat_test(clauses1, assignment2) == True\n",
    "assert three_sat_test(clauses1, assignment3) == False \n",
    "\n",
    "# ADD ADDITIONAL TESTS HERE"
   ]
  },
  {
   "cell_type": "code",
   "execution_count": null,
   "id": "a140ee68",
   "metadata": {},
   "outputs": [],
   "source": []
  }
 ],
 "metadata": {
  "kernelspec": {
   "display_name": "Python 3",
   "language": "python",
   "name": "python3"
  },
  "language_info": {
   "codemirror_mode": {
    "name": "ipython",
    "version": 3
   },
   "file_extension": ".py",
   "mimetype": "text/x-python",
   "name": "python",
   "nbconvert_exporter": "python",
   "pygments_lexer": "ipython3",
   "version": "3.7.3"
  }
 },
 "nbformat": 4,
 "nbformat_minor": 5
}
