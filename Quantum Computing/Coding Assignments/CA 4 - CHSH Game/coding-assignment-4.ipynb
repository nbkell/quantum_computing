{
 "cells": [
  {
   "cell_type": "markdown",
   "metadata": {},
   "source": [
    "<b>Coding Assignment 4<br>\n",
    "CS 401: Quantum Computing <br>\n",
    "Dr. Kell, Spring 2023 </b>\n",
    "\n",
    "<b> Instructions </b> \n",
    "\n",
    "To complete the assignment, please fill in all coding cells as instructed below, and then submit the file on Notebowl once completed. Before you turn in your submission, make sure everything runs as expected. First, restart the kernel (in the menubar, select Kernel → Restart) and then run all cells (in the menubar, select Cell → Run All). Make sure you fill in any place that says YOUR CODE GOES HERE.\n",
    "    \n",
    "<b> Constraints on references and collaborations</b>\n",
    "    \n",
    " <item> <i> You may:</i> Reference any chapter from the course textbook, references, and relevant Wikipedia pages. You are permitted to collaborate with others in the class in groups of 2-3, but these collaborations should be solely conceptual (i.e., clarifying the problem, brainstorming algorithms, etc.).\n",
    "     \n",
    " <item> <i> You may not</i>: \n",
    "     \n",
    "* You may not share code or work with others when writing your code.\n",
    "<br> \n",
    "     \n",
    "* Reference the Qiskit CHSH guide.\n",
    "    \n",
    "<b> Finally: Be sure to use proper coding style for all your solutions!</b> For example, you should write docstrings for all functions, include useful in-line comments explaining how your code works, write clean code with readable variable names, etc.. You will lose points if you write sloppy code with poor style (e.g., not writing docstrings for any of your functions). \n",
    "    \n",
    "Best of luck!"
   ]
  },
  {
   "cell_type": "code",
   "execution_count": null,
   "metadata": {},
   "outputs": [],
   "source": [
    "# Specify your name below\n",
    "NAME = \"Your Name\""
   ]
  },
  {
   "cell_type": "code",
   "execution_count": 7,
   "metadata": {},
   "outputs": [],
   "source": [
    "import numpy as np\n",
    "import matplotlib.pyplot as plt\n",
    "import random, cmath\n",
    "from qiskit import QuantumCircuit, QuantumRegister, ClassicalRegister, assemble, Aer\n",
    "from qiskit.quantum_info import Statevector\n",
    "from qiskit.visualization import array_to_latex, state_visualization\n",
    "from qiskit.visualization import plot_bloch_multivector, plot_histogram, plot_state_city \n",
    "import qis401"
   ]
  },
  {
   "cell_type": "markdown",
   "metadata": {},
   "source": [
    "## Part 1 [25 points] \n",
    "\n",
    "In this first part, you will write a Monte Carlo simulation that experimentally computes the set of optimal deterministic strategies for the classical version of the CHSH game. (By 'deterministic' we mean that both Alice and Bob are not allowed to use randomization when determining their response.) \n",
    "\n",
    "Observe that given the setup of the game, a deterministic strategy for a fixed player can be specified by a binary function  $f:\\{0, 1\\} \\rightarrow \\{0, 1\\}$, where the input bit corresponds to the move played by either Charlie/Lucy, and the output bit corresponds to the response played by Alice/Bob. \n",
    "\n",
    "Thus, both Alice and Bob have four possibilities to choose from: \n",
    "\n",
    "* $f(0) = 0 \\text{ and } f(1) = 0$ (call this strategy '0s') \n",
    "* $f(0) = 1 \\text{ and } f(1) = 1$ (call this strategy '1s') \n",
    "* $f(0) = 0 \\text{ and } f(1) = 1$ (call this strategy 'same') \n",
    "* $f(0) = 1 \\text{ and } f(1) = 0$ (call this strategy 'flip') \n",
    "\n",
    "The goal of the simulation is to (i) verify that optimal win probability is 0.75 and (ii) determine which strategy pairs achieve this win probability.\n",
    "\n",
    "In particular, implement a function called <code>optimal_chsh_strats(trials_per_strat)</code> that takes in an int <code>trials_per_strat</code> and returns a list of tuples specifying the optimal strategy pairs using the naming convention above (e.g., based on our discussion in class, <code>('0s', '0s')</code> should one of the tuples in the list).\n",
    "\n",
    "To determine win probability for each strategy pair, the function must use a Monte Carlo algorithm to simulate the game <code>trials_per_strat</code> number of times. As you increase <code>trials_per_strat</code>, the win probabilities of the optimal strategies should converge to 0.75. \n",
    "\n",
    "Furthermore, your function must also generate a plot that displays the win probability for each strategy pair. For example, your plot might look something like: \n",
    "\n",
    "<div align=\"center\">\n",
    "<img src=\"classic_chsh_plot.png\" width=\"400\">\n",
    "</div>\n",
    "\n",
    "You are not required to make a 3D plot, but the plot should make it fairly clear what the win probabilities are of each strategy pair. (For examples on how to generate 3D plots in matplotlib, see the [matplotlib 3D plot page](https://matplotlib.org/stable/gallery/mplot3d/index.html) as well as this [tutorial](https://pythonnumericalmethods.berkeley.edu/notebooks/chapter12.02-3D-Plotting.html).)\n",
    "\n",
    "Also note there are no requirements on how to structure your implementation, but it will be best if you write additional helper functions that breakdown the solution into natural subroutines (e.g., you will likely lose points on coding style if your solution is one giant messy function that's difficult to read)."
   ]
  },
  {
   "cell_type": "code",
   "execution_count": 119,
   "metadata": {},
   "outputs": [],
   "source": [
    "# FUNCTION DEFINITION(S) GO HERE (DELETE THIS COMMENT)"
   ]
  },
  {
   "cell_type": "code",
   "execution_count": null,
   "metadata": {},
   "outputs": [],
   "source": [
    "# GENERATE YOUR OUTPUT HERE (DELETE THIS COMMENT)"
   ]
  },
  {
   "cell_type": "markdown",
   "metadata": {},
   "source": [
    "## Part 2 [25 points] \n",
    "\n",
    "You will now implement the optimal quantum CHSH strategy we saw in class using Qiskit. In particular, you must implement the following two functions:\n",
    "\n",
    "* <code>make_chsh_circuit()</code>: returns a QuantumCircuit object implementing the optimal quantum CHSH game strategy. Your circuit should have four classical registers that at the end of the computation collectively contain the outputs played by the four players in the game (Alice, Bob, Charlie, and Lucy). Note that - as discussed in lecture - since you cannot initialize the values of ClassicalRegister objects, you will need to simulate Charlie and Lucy's outputs using Quantum gates + measurement. \n",
    "\n",
    "\n",
    "* <code>quantum_chsh_montecarlo(trials)</code>: performs a Monte Carlo algorithm that simulates the CHSH game quantum circuit <code>trials</code> number of times and returns the percentage of trials that result in wins. On each trial, you should call <code>make_chsh_circuit()</code> to construct the circuit. Then after simulating the circuit, you should then use the values of the four classical registers to determine the outcome of the game. \n",
    "\n",
    "To display your output, in the first cell you should call <code>make_chsh_circuit()</code> to obtain the circuit and then use the <code>draw()</code> method to display the circuit itself. In the next cell, call  <code>quantum_chsh_montecarlo()</code> to print the resulting probability. As you increase the number of trials, your answer should converge to $\\cos^2\\left(\\frac{\\pi}{8}\\right) \\approx .8535$.\n"
   ]
  },
  {
   "cell_type": "code",
   "execution_count": null,
   "metadata": {},
   "outputs": [],
   "source": [
    "# FUNCTION DEFINITIONS GO HERE (DELETE THIS COMMENT)"
   ]
  },
  {
   "cell_type": "code",
   "execution_count": null,
   "metadata": {},
   "outputs": [],
   "source": [
    "# DISPLAY YOUR CIRCUIT HERE (DELETE THIS COMMENT)"
   ]
  },
  {
   "cell_type": "code",
   "execution_count": null,
   "metadata": {},
   "outputs": [],
   "source": [
    "# OUTPUT WIN PROBABILITY HERE (DELETE THIS COMMENT)"
   ]
  }
 ],
 "metadata": {
  "kernelspec": {
   "display_name": "Python 3",
   "language": "python",
   "name": "python3"
  },
  "language_info": {
   "codemirror_mode": {
    "name": "ipython",
    "version": 3
   },
   "file_extension": ".py",
   "mimetype": "text/x-python",
   "name": "python",
   "nbconvert_exporter": "python",
   "pygments_lexer": "ipython3",
   "version": "3.8.5"
  }
 },
 "nbformat": 4,
 "nbformat_minor": 5
}
