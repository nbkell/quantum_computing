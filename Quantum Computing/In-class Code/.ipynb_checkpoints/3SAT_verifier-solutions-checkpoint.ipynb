{
 "cells": [
  {
   "cell_type": "markdown",
   "id": "194eb39b",
   "metadata": {},
   "source": [
    "### Implementing a 3-SAT Verifier on a Quantum Circuit\n",
    "\n",
    "In this coding activity, you will implement a verifier for a 3-SAT instance on a quantum circuit."
   ]
  },
  {
   "cell_type": "code",
   "execution_count": 1,
   "id": "b884c8b6",
   "metadata": {},
   "outputs": [],
   "source": [
    "import numpy as np\n",
    "import matplotlib.pyplot as plt\n",
    "import random, cmath\n",
    "from qiskit import QuantumCircuit, QuantumRegister, ClassicalRegister, assemble, Aer\n",
    "from qiskit.quantum_info import Statevector\n",
    "from qiskit.visualization import array_to_latex, state_visualization\n",
    "from qiskit.visualization import plot_bloch_multivector, plot_histogram, plot_state_city \n",
    "import qis401"
   ]
  },
  {
   "cell_type": "markdown",
   "id": "bc4227a4",
   "metadata": {},
   "source": [
    "### Part 1\n",
    "\n",
    "To begin, write a function <code>or_gate(circ, a, b, result)</code> that takes in a QuantumCircuit <code>circ</code> and three single-qubit QuantumRegisters <code>a, b</code> and <code>result</code> as parameters. The function should add quantum gates to <code>circ</code> that collectively perform an OR operation on qubits <code>a</code> and <code>b</code>, which is then stored on the qubit <code>result</code>. Also <b>(important!)</b>, qubits <code>a</code> and <code>b</code> should be restored to their original values @return. \n",
    "\n",
    "Assume that the ancilla <code>result</code> qubit is in state $|1\\rangle$ at the start of the function. As discussed in the previous lecture, you should implement NOT using an X gate (and therefore no additional ancilla registers need to be passed in). "
   ]
  },
  {
   "cell_type": "code",
   "execution_count": 11,
   "id": "dc00bead",
   "metadata": {},
   "outputs": [],
   "source": [
    "def or_gate(circ, a, b, result):\n",
    "    '''\n",
    "    Adds an OR gate to a quantum circuit.\n",
    "    \n",
    "    Args:\n",
    "        QuantumRegisters a, b, and result (result is in state |1>)\n",
    "    @return:\n",
    "        a OR b is stored on result. a and b contain original values\n",
    "    '''\n",
    "    # apply OR = (NOT a) NAND (NOT b)\n",
    "    circ.x(a)\n",
    "    circ.x(b) \n",
    "    circ.ccx(a, b, result)\n",
    "    \n",
    "    # restore values of a and b \n",
    "    circ.x(a)\n",
    "    circ.x(b)    "
   ]
  },
  {
   "cell_type": "markdown",
   "id": "afa041b1",
   "metadata": {},
   "source": [
    "### Part 2\n",
    "\n",
    "Next, write a function <code>add_clause(circ, vars_reg, clause, c_index, clause_ancilla, clause_outputs)</code> that adds a subcircuit to the QuantumCircuit <code>circ</code> that evaluates a single clause. For a 3-SAT instance with $n$ variables and $m$ clauses, the specifications for the remaining parameters are as follows:\n",
    "\n",
    "* <code>vars_reg</code>: an $n$-qubit quantum register that throughout stores the values assigned to each Boolean variable. For example, if $x_1$ is to be <code>True</code> in the assignment, then <code>var_reg[0]</code> is in state $|1\\rangle$ prior to calling the function.\n",
    "\n",
    "\n",
    "* <code>clause</code>: a three-tuple that contains three positive or negative ints that indicate each of the 1-indexed literals in the clause, where negated values correspond to negative literals. For example, the clause $(x_1 \\vee x_2 \\vee \\overline{x_3})$ would be represented by the tuple $(1, 2, -3)$. (This is actually a standard SAT solver encoding known as DIMACS notation.) \n",
    "\n",
    "\n",
    "* <code>c_index:</code> The index of the clause in the overall formula (0-indexed). \n",
    "\n",
    "\n",
    "* <code>clause_ancillas</code> and <code>clause_outputs</code>: both $m$-qubit registers, where <code>clause_ancillas[c_index]</code> is the ancilla qubit that will be used to store the the result of ORing the first two literals in the clause, and <code>clause_outputs[c_index]</code> should then store the overall evaluation of the clause @return.  \n",
    "\n",
    "Note that like the <code>or_gate()</code> function from Part 1, the states of qubits in <code>var_reg</code> should be restored to their original value @return."
   ]
  },
  {
   "cell_type": "code",
   "execution_count": 12,
   "id": "e7074bd3",
   "metadata": {},
   "outputs": [],
   "source": [
    "def add_clause(circ, vars_reg, clause, c_index, clause_ancilla, clause_outputs):\n",
    "    '''\n",
    "    Adds an OR gate to a quantum circuit.\n",
    "    \n",
    "    Args:\n",
    "        QuantumRegisters a, b, and result (result is in state |1>)\n",
    "    @return:\n",
    "        a OR b is stored on result. a and b are contain original values\n",
    "    '''\n",
    "    # negate variables in the circuit that are negative in clause \n",
    "    circ.barrier()\n",
    "    for var in set(clause):\n",
    "        if var < 0: \n",
    "            index = -var - 1\n",
    "            circ.x(vars_reg[index])\n",
    "    \n",
    "    # perform the OR operations in the clause\n",
    "    r1, r2, r3 = abs(clause[0])-1, abs(clause[1])-1, abs(clause[2])-1 \n",
    "    or_gate(circ, vars_reg[r1], vars_reg[r2], clause_ancilla[c_index]) \n",
    "    or_gate(circ, vars_reg[r3], clause_ancilla[c_index], clause_outputs[c_index])\n",
    "    \n",
    "    # reset the negated literal to their original values\n",
    "    for var in set(clause):\n",
    "        if var < 0: \n",
    "            index = -var - 1\n",
    "            circ.x(vars_reg[index])  "
   ]
  },
  {
   "cell_type": "markdown",
   "id": "3f5d926c",
   "metadata": {},
   "source": [
    "### Part 3\n",
    "\n",
    "Finally, now write a function <code>make_3sat_circuit(clauses, assignment)</code> that returns the overall quantum circuit that evaluates a 3-SAT formula for a given assignment.  In particular, <code>assignment</code> is a list of Booleans indicating how each (0-indexed) variable is set in the assignment. <code>clauses</code> is then a list of three tuples specifying each clause in DIMACS notation. \n",
    "\n",
    "A couple things to keep in mind:\n",
    "\n",
    "* Recall that both functions in Part 1 and 2 assume the ancilla qubits have already been set to state $|1\\rangle$ before calling the function. Therefore you will need to take care of this at this point in the solution. \n",
    "\n",
    "\n",
    "* To evaluate the overall formula (i.e., ANDing together the results if all clauses), you should use a <i>multi-CX</i> gate, which generalizes CX and Tofolli gates to an arbitrary number of control qubits. For example, we can create a multi-CX gate with three controls using the <code>mtc()</code> method as follows."
   ]
  },
  {
   "cell_type": "code",
   "execution_count": 13,
   "id": "01726df5",
   "metadata": {},
   "outputs": [
    {
     "data": {
      "image/png": "[encoded data removed]",
      "text/plain": [
       "<Figure size 206.218x264.88 with 1 Axes>"
      ]
     },
     "execution_count": 13,
     "metadata": {},
     "output_type": "execute_result"
    }
   ],
   "source": [
    "# multi-CX example\n",
    "controls = QuantumRegister(3, \"control\")\n",
    "target = QuantumRegister(1, \"target\")\n",
    "circ = QuantumCircuit(controls, target)\n",
    "circ.mct(controls, target)\n",
    "circ.draw('mpl')"
   ]
  },
  {
   "cell_type": "code",
   "execution_count": 5,
   "id": "56862506",
   "metadata": {},
   "outputs": [],
   "source": [
    "def make_3sat_circuit(clauses, assignment):\n",
    "    '''\n",
    "    Constructs a quantum circuit that verifies a 3-SAT instance\n",
    "    \n",
    "    Args:\n",
    "        clauses: list of tuples specifying clauses in DIMACS notation\n",
    "        assignment: list of Booleans specifying variable assignment\n",
    "    Returns:\n",
    "        circ: QuantumCircuit object verifies if assignment satisfies the formula \n",
    "    '''\n",
    "    # create circuit registers\n",
    "    n, m = len(assignment), len(clauses)\n",
    "    vars_reg = QuantumRegister(n, 'vars')\n",
    "    clause_ancilla = QuantumRegister(m, 'c ancils')\n",
    "    clause_outputs = QuantumRegister(m, 'c outputs') \n",
    "    result = QuantumRegister(1, 'result')\n",
    "    circ = QuantumCircuit(vars_reg, clause_ancilla,  clause_outputs, result)\n",
    "    \n",
    "    # set up ancillas to be start in state |1>\n",
    "    for c in range(m):\n",
    "        circ.x(clause_ancilla[c])\n",
    "        circ.x(clause_outputs[c])\n",
    "    circ.barrier()\n",
    "    \n",
    "    # initialize state based on assignment\n",
    "    for a in range(n):\n",
    "        if assignment[a]:\n",
    "            circ.x(vars_reg[a])\n",
    "            \n",
    "    # add clause sub-circuits\n",
    "    for c in range(m):\n",
    "        clause = clauses[c]\n",
    "        add_clause(circ, vars_reg, clause, c, clause_ancilla, clause_outputs)\n",
    "    circ.barrier()\n",
    "    \n",
    "    # check to see if all clauses were satisfied \n",
    "    circ.mct(clause_outputs, result)\n",
    "    return circ "
   ]
  },
  {
   "cell_type": "code",
   "execution_count": 6,
   "id": "9ad39cbc",
   "metadata": {},
   "outputs": [
    {
     "data": {
      "image/png": "[encoded data removed]",
      "text/plain": [
       "<Figure size 1374.54x565.88 with 1 Axes>"
      ]
     },
     "execution_count": 6,
     "metadata": {},
     "output_type": "execute_result"
    }
   ],
   "source": [
    "# displaying circuit for example instance\n",
    "clauses = [(1, 2, -3), (1, -3, -4)]\n",
    "assignment = [True, False, True, False]\n",
    "circ = make_3sat_circuit(clauses, assignment)\n",
    "circ.draw('mpl')"
   ]
  },
  {
   "cell_type": "markdown",
   "id": "ebe0626e",
   "metadata": {},
   "source": [
    "### Testing Your Solution\n",
    "\n",
    "The cells below can be used to test your solution. "
   ]
  },
  {
   "cell_type": "code",
   "execution_count": 7,
   "id": "11710f34",
   "metadata": {},
   "outputs": [],
   "source": [
    "def three_sat_test(clauses, assignment):\n",
    "    ''' \n",
    "    Evaluates a 3-SAT instance in CNF with n variables and m clauses\n",
    "    for a fixed assignment of the Boolean variables in the formula. \n",
    "    \n",
    "    Args\n",
    "        clauses: a list of 3-tuples specifying the formula in DIMACS notation\n",
    "        assignment: a list of Booleans (assignment[0] = True -> x_1 = True)\n",
    "    Returns: \n",
    "        True if the formulas evalutes to True; otherwise returns False. \n",
    "    '''\n",
    "    circ = make_3sat_circuit(clauses, assignment)\n",
    "    result = qis401.simulate_circuit(circ, 1)\n",
    "    output = list(result.get_counts().keys())[0]\n",
    "    return output[0] == '1'"
   ]
  },
  {
   "cell_type": "markdown",
   "id": "f23c89e5",
   "metadata": {},
   "source": [
    "Tests for instance $(x_1 \\vee x_2 \\vee \\overline{x_3}) \\wedge (x_1 \\vee \\overline{x_3} \\vee \\overline{x_4})$"
   ]
  },
  {
   "cell_type": "code",
   "execution_count": 8,
   "id": "2b696320",
   "metadata": {},
   "outputs": [],
   "source": [
    "clauses = [(1, 2, -3), (1, -3, -4)]   \n",
    "assignment1 = [True, True, False, False]\n",
    "assignment2 = [False, False, False, True]\n",
    "assignment3 = [False, False, True, True]\n",
    "\n",
    "assert three_sat_test(clauses, assignment1) == True\n",
    "assert three_sat_test(clauses, assignment2) == True\n",
    "assert three_sat_test(clauses, assignment3) == False "
   ]
  },
  {
   "cell_type": "markdown",
   "id": "95eaa0cd",
   "metadata": {},
   "source": [
    "Tests for instance $(x_1 \\vee x_2 \\vee x_3)  \\wedge (x_1 \\vee \\overline{x_4} \\vee \\overline{x_5})  \\wedge (\\overline{x_2} \\vee x_5 \\vee x_6)  \\wedge (\\overline{x_3} \\vee \\overline{x_5} \\vee \\overline{x_6})$"
   ]
  },
  {
   "cell_type": "code",
   "execution_count": 9,
   "id": "1018fee8",
   "metadata": {},
   "outputs": [],
   "source": [
    "clauses = [(1, 2, 3), (1, -4, -5), (-2, 5, 6), (-3, -5, -6)]  \n",
    "\n",
    "assignment1 = [True, True, True, True, True, False]\n",
    "assignment2 = [True, True, True, True, True, False]\n",
    "assignment3 = [True, True, True, False, True, False]\n",
    "assignment4 = [False, True, True, True, True, False]\n",
    "assignment5 = [True, True, True, True, True, True]\n",
    "assignment6 = [False, False, False, False, False, False]\n",
    "\n",
    "assert three_sat_test(clauses, assignment1) == True\n",
    "assert three_sat_test(clauses, assignment2) == True\n",
    "assert three_sat_test(clauses, assignment3) == True\n",
    "assert three_sat_test(clauses, assignment4) == False\n",
    "assert three_sat_test(clauses, assignment5) == False\n",
    "assert three_sat_test(clauses, assignment6) == False"
   ]
  },
  {
   "cell_type": "markdown",
   "id": "211cf0e2",
   "metadata": {},
   "source": [
    "Tests for instance $(x_1 \\vee x_2) \\wedge (\\overline{x_1} \\vee x_2) \\wedge (x_1 \\vee \\overline{x_2}) \\wedge (\\overline{x_1} \\vee \\overline{x_2}) $. Note we duplicate the $x_2$ literals to turn the instance into a 3-SAT instance."
   ]
  },
  {
   "cell_type": "code",
   "execution_count": 10,
   "id": "a140ee68",
   "metadata": {},
   "outputs": [],
   "source": [
    "clauses = [(1, 2, 2), (-1, 2, 2), (1, -2, -2), (-1, -2, -2)] \n",
    "assignment1 = [True, True]\n",
    "assignment2 = [False, False]\n",
    "assignment3 = [True, False]\n",
    "assignment4 = [False, False]\n",
    "assert three_sat_test(clauses, assignment1) == False\n",
    "assert three_sat_test(clauses, assignment2) == False\n",
    "assert three_sat_test(clauses, assignment3) == False\n",
    "assert three_sat_test(clauses, assignment4) == False "
   ]
  },
  {
   "cell_type": "code",
   "execution_count": null,
   "id": "435448b9",
   "metadata": {},
   "outputs": [],
   "source": []
  }
 ],
 "metadata": {
  "kernelspec": {
   "display_name": "Python 3",
   "language": "python",
   "name": "python3"
  },
  "language_info": {
   "codemirror_mode": {
    "name": "ipython",
    "version": 3
   },
   "file_extension": ".py",
   "mimetype": "text/x-python",
   "name": "python",
   "nbconvert_exporter": "python",
   "pygments_lexer": "ipython3",
   "version": "3.7.3"
  }
 },
 "nbformat": 4,
 "nbformat_minor": 5
}
